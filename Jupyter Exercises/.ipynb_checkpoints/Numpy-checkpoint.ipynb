{
 "cells": [
  {
   "cell_type": "markdown",
   "id": "bf6e7894",
   "metadata": {},
   "source": [
    "# Numpy\n",
    "\n",
    "Numpy is one of the most important libraries of Python, we're going\n",
    "to see why is this and also examples of how to use it and what is it used for.\n",
    "\n",
    "It let's you realize maths with numeric arrays at high speed, instead \n",
    "the normal lists of Python; also it has a really wide set of tools to make\n",
    "operations eficiently and with less code.\n",
    "\n",
    "Also, most of Python's libraries are based on Numpy, for example: Pandas."
   ]
  },
  {
   "cell_type": "code",
   "execution_count": 39,
   "id": "e102afa7",
   "metadata": {},
   "outputs": [
    {
     "name": "stdout",
     "output_type": "stream",
     "text": [
      "<class 'numpy.ndarray'>\n"
     ]
    }
   ],
   "source": [
    "# You use the alias \"np\" to name the library\n",
    "import numpy as np\n",
    "\"\"\"\n",
    "We create a \"np\" array of range 1 (one dimension) with the method \"array()\",\n",
    "the numbers between square brackets are rows from the array and each number separated\n",
    "with commas are the columns.\n",
    "\"\"\"\n",
    "an_array = np.array([7, 77, 777])\n",
    "# This variable is a type \"numpy.ndarray\", n (number) of \"d\" (dimensions) of this array.\n",
    "print(type(an_array))"
   ]
  },
  {
   "cell_type": "code",
   "execution_count": 2,
   "id": "e2e30a61",
   "metadata": {},
   "outputs": [
    {
     "name": "stdout",
     "output_type": "stream",
     "text": [
      "<class 'tuple'>\n",
      "(3,)\n",
      "Shape of the array: (2, 3)\n",
      "[[1 2 3]\n",
      " [4 5 6]]\n"
     ]
    }
   ],
   "source": [
    "# We search what's the data type of the array's shape object and then we print the shape of the array.\n",
    "print (type(an_array.shape))\n",
    "# Since it's only 1 dimension you will only see a number meaning how many columns it has.\n",
    "print(an_array.shape)\n",
    "# Now this is how you create a two dimensions array, and each dimension should have the same lenght.\n",
    "a_two_dimension_array = np.array([[1, 2, 3], [4, 5, 6]])\n",
    "print(\"Shape of the array:\", a_two_dimension_array.shape)\n",
    "print(a_two_dimension_array)"
   ]
  },
  {
   "cell_type": "code",
   "execution_count": 3,
   "id": "7adf2918",
   "metadata": {},
   "outputs": [
    {
     "name": "stdout",
     "output_type": "stream",
     "text": [
      "7\n",
      "77\n",
      "777\n",
      "200\n"
     ]
    }
   ],
   "source": [
    "# How to access those variables\n",
    "print(an_array[0])\n",
    "print(an_array[1])\n",
    "print(an_array[2])\n",
    "an_array[2] = 200\n",
    "print(an_array[2])"
   ]
  },
  {
   "cell_type": "markdown",
   "id": "60ac2669",
   "metadata": {},
   "source": [
    "# How to create a multidimensional array"
   ]
  },
  {
   "cell_type": "code",
   "execution_count": 4,
   "id": "2ee2175a",
   "metadata": {},
   "outputs": [
    {
     "name": "stdout",
     "output_type": "stream",
     "text": [
      "Shape of this array is: (3, 3)\n"
     ]
    }
   ],
   "source": [
    "multidimensional_array = np.array([[11, 12, 13], [22, 23, 24], [35, 36, 37]])\n",
    "print(\"Shape of this array is:\",multidimensional_array.shape)"
   ]
  },
  {
   "cell_type": "code",
   "execution_count": 5,
   "id": "1d166140",
   "metadata": {},
   "outputs": [
    {
     "name": "stdout",
     "output_type": "stream",
     "text": [
      "This is how I access a value of this two-dimension array: 35\n",
      "This is how I print the full array\n",
      "[[11 12 13]\n",
      " [22 23 24]\n",
      " [35 36 37]]\n"
     ]
    }
   ],
   "source": [
    "print(\"This is how I access a value of this two-dimension array:\",multidimensional_array[2, 0])\n",
    "print(\"This is how I print the full array\")\n",
    "print(multidimensional_array)"
   ]
  },
  {
   "cell_type": "markdown",
   "id": "bedd02cc",
   "metadata": {},
   "source": [
    "$ I^{3 \\times 3} =\n",
    "\\left( \\begin{array}{cccc}\n",
    " 11 & 12 & 13 \\\\\n",
    " 22 & 23 & 24 \\\\\n",
    " 35 & 36 & 37 \\\\\n",
    "\\end{array} \\right) $"
   ]
  },
  {
   "cell_type": "markdown",
   "id": "ac9928fd",
   "metadata": {},
   "source": [
    "# Multiple ways of creating nd arrays"
   ]
  },
  {
   "cell_type": "code",
   "execution_count": 6,
   "id": "553171c0",
   "metadata": {},
   "outputs": [
    {
     "name": "stdout",
     "output_type": "stream",
     "text": [
      "[[0. 0. 0. ... 0. 0. 0.]\n",
      " [0. 0. 0. ... 0. 0. 0.]\n",
      " [0. 0. 0. ... 0. 0. 0.]\n",
      " ...\n",
      " [0. 0. 0. ... 0. 0. 0.]\n",
      " [0. 0. 0. ... 0. 0. 0.]\n",
      " [0. 0. 0. ... 0. 0. 0.]]\n",
      "[[[0. 0. 0. 0. 0.]\n",
      "  [0. 0. 0. 0. 0.]\n",
      "  [0. 0. 0. 0. 0.]\n",
      "  ...\n",
      "  [0. 0. 0. 0. 0.]\n",
      "  [0. 0. 0. 0. 0.]\n",
      "  [0. 0. 0. 0. 0.]]\n",
      "\n",
      " [[0. 0. 0. 0. 0.]\n",
      "  [0. 0. 0. 0. 0.]\n",
      "  [0. 0. 0. 0. 0.]\n",
      "  ...\n",
      "  [0. 0. 0. 0. 0.]\n",
      "  [0. 0. 0. 0. 0.]\n",
      "  [0. 0. 0. 0. 0.]]\n",
      "\n",
      " [[0. 0. 0. 0. 0.]\n",
      "  [0. 0. 0. 0. 0.]\n",
      "  [0. 0. 0. 0. 0.]\n",
      "  ...\n",
      "  [0. 0. 0. 0. 0.]\n",
      "  [0. 0. 0. 0. 0.]\n",
      "  [0. 0. 0. 0. 0.]]\n",
      "\n",
      " ...\n",
      "\n",
      " [[0. 0. 0. 0. 0.]\n",
      "  [0. 0. 0. 0. 0.]\n",
      "  [0. 0. 0. 0. 0.]\n",
      "  ...\n",
      "  [0. 0. 0. 0. 0.]\n",
      "  [0. 0. 0. 0. 0.]\n",
      "  [0. 0. 0. 0. 0.]]\n",
      "\n",
      " [[0. 0. 0. 0. 0.]\n",
      "  [0. 0. 0. 0. 0.]\n",
      "  [0. 0. 0. 0. 0.]\n",
      "  ...\n",
      "  [0. 0. 0. 0. 0.]\n",
      "  [0. 0. 0. 0. 0.]\n",
      "  [0. 0. 0. 0. 0.]]\n",
      "\n",
      " [[0. 0. 0. 0. 0.]\n",
      "  [0. 0. 0. 0. 0.]\n",
      "  [0. 0. 0. 0. 0.]\n",
      "  ...\n",
      "  [0. 0. 0. 0. 0.]\n",
      "  [0. 0. 0. 0. 0.]\n",
      "  [0. 0. 0. 0. 0.]]]\n"
     ]
    }
   ],
   "source": [
    "#How to create a full-zero array, with the method \"zeros()\"\n",
    "i1 = np.zeros((1080, 1920))\n",
    "print(i1)\n",
    "# How can we add a dimension color? With another dimension with colours (red, green, blue, alpha, ultraviolet)\n",
    "i1 = np.zeros((1080, 1920, 5))\n",
    "print (i1)"
   ]
  },
  {
   "cell_type": "code",
   "execution_count": 7,
   "id": "e2293b31",
   "metadata": {},
   "outputs": [
    {
     "name": "stdout",
     "output_type": "stream",
     "text": [
      "[[9.1 9.1]\n",
      " [9.1 9.1]]\n"
     ]
    }
   ],
   "source": [
    "\"\"\"\n",
    "This method will fill all the numbers from an array with the method \"full()\"; first\n",
    "argument means the dimensions of the array and the second the number you want to fill in in each position\n",
    "\"\"\"\n",
    "i2 = np.full((2,2), 9.1)\n",
    "print(i2)"
   ]
  },
  {
   "cell_type": "code",
   "execution_count": 8,
   "id": "2b0ab76b",
   "metadata": {},
   "outputs": [
    {
     "name": "stdout",
     "output_type": "stream",
     "text": [
      "[[1. 0. 0. 0. 0. 0. 0.]\n",
      " [0. 1. 0. 0. 0. 0. 0.]\n",
      " [0. 0. 1. 0. 0. 0. 0.]\n",
      " [0. 0. 0. 1. 0. 0. 0.]\n",
      " [0. 0. 0. 0. 1. 0. 0.]\n",
      " [0. 0. 0. 0. 0. 1. 0.]\n",
      " [0. 0. 0. 0. 0. 0. 1.]]\n"
     ]
    }
   ],
   "source": [
    "# The method \"eye()\" creates an identity matrix\n",
    "i3 = np.eye(7,7)\n",
    "print(i3)"
   ]
  },
  {
   "cell_type": "code",
   "execution_count": 9,
   "id": "f81660e6",
   "metadata": {},
   "outputs": [
    {
     "name": "stdout",
     "output_type": "stream",
     "text": [
      "[[[1. 1.]\n",
      "  [1. 1.]\n",
      "  [1. 1.]\n",
      "  [1. 1.]\n",
      "  [1. 1.]\n",
      "  [1. 1.]\n",
      "  [1. 1.]]\n",
      "\n",
      " [[1. 1.]\n",
      "  [1. 1.]\n",
      "  [1. 1.]\n",
      "  [1. 1.]\n",
      "  [1. 1.]\n",
      "  [1. 1.]\n",
      "  [1. 1.]]\n",
      "\n",
      " [[1. 1.]\n",
      "  [1. 1.]\n",
      "  [1. 1.]\n",
      "  [1. 1.]\n",
      "  [1. 1.]\n",
      "  [1. 1.]\n",
      "  [1. 1.]]\n",
      "\n",
      " [[1. 1.]\n",
      "  [1. 1.]\n",
      "  [1. 1.]\n",
      "  [1. 1.]\n",
      "  [1. 1.]\n",
      "  [1. 1.]\n",
      "  [1. 1.]]\n",
      "\n",
      " [[1. 1.]\n",
      "  [1. 1.]\n",
      "  [1. 1.]\n",
      "  [1. 1.]\n",
      "  [1. 1.]\n",
      "  [1. 1.]\n",
      "  [1. 1.]]\n",
      "\n",
      " [[1. 1.]\n",
      "  [1. 1.]\n",
      "  [1. 1.]\n",
      "  [1. 1.]\n",
      "  [1. 1.]\n",
      "  [1. 1.]\n",
      "  [1. 1.]]\n",
      "\n",
      " [[1. 1.]\n",
      "  [1. 1.]\n",
      "  [1. 1.]\n",
      "  [1. 1.]\n",
      "  [1. 1.]\n",
      "  [1. 1.]\n",
      "  [1. 1.]]\n",
      "\n",
      " [[1. 1.]\n",
      "  [1. 1.]\n",
      "  [1. 1.]\n",
      "  [1. 1.]\n",
      "  [1. 1.]\n",
      "  [1. 1.]\n",
      "  [1. 1.]]\n",
      "\n",
      " [[1. 1.]\n",
      "  [1. 1.]\n",
      "  [1. 1.]\n",
      "  [1. 1.]\n",
      "  [1. 1.]\n",
      "  [1. 1.]\n",
      "  [1. 1.]]\n",
      "\n",
      " [[1. 1.]\n",
      "  [1. 1.]\n",
      "  [1. 1.]\n",
      "  [1. 1.]\n",
      "  [1. 1.]\n",
      "  [1. 1.]\n",
      "  [1. 1.]]]\n"
     ]
    }
   ],
   "source": [
    "# This method creates an array full of ones\n",
    "i4 = np.ones((10,7,2))\n",
    "print (i4)"
   ]
  },
  {
   "cell_type": "code",
   "execution_count": 10,
   "id": "8feb671a",
   "metadata": {},
   "outputs": [
    {
     "name": "stdout",
     "output_type": "stream",
     "text": [
      "[[0.61270395 0.98693168 0.60739802 0.85966832 0.84710874]\n",
      " [0.79913317 0.63615483 0.18193375 0.41508438 0.6800865 ]\n",
      " [0.2856168  0.96455273 0.94597113 0.72873543 0.66527935]\n",
      " [0.02444755 0.0265239  0.68467436 0.10466253 0.42342837]\n",
      " [0.26331018 0.46919037 0.85028749 0.76670998 0.13896773]]\n"
     ]
    }
   ],
   "source": [
    "\"\"\"\n",
    "We can also create an array full of random floats between 0 and 1; we're using the method\n",
    "inside numpy's class \"random\" called also \"random()\".\n",
    "\"\"\"\n",
    "i5 = np.random.random((5,5))\n",
    "print(i5)"
   ]
  },
  {
   "cell_type": "markdown",
   "id": "b149dc8d",
   "metadata": {},
   "source": [
    "# Array with indexes\n",
    "Sometimes preparing a series of indexes in an array is useful to utilize them to operate other arrays"
   ]
  },
  {
   "cell_type": "code",
   "execution_count": 11,
   "id": "d919ffb3",
   "metadata": {},
   "outputs": [
    {
     "name": "stdout",
     "output_type": "stream",
     "text": [
      "[[11 12 13]\n",
      " [21 22 23]\n",
      " [31 32 33]\n",
      " [41 42 43]]\n",
      "(4, 3)\n"
     ]
    }
   ],
   "source": [
    "#Let's create a new two-dimensional array\n",
    "array_a = np.array([[11, 12, 13], [21, 22, 23], [31, 32, 33], [41, 42, 43]])\n",
    "print(array_a)\n",
    "print(array_a.shape)"
   ]
  },
  {
   "cell_type": "code",
   "execution_count": 12,
   "id": "6088ed98",
   "metadata": {},
   "outputs": [
    {
     "name": "stdout",
     "output_type": "stream",
     "text": [
      "We choose this indexes for rows: [0 1 2 3]\n",
      "We choose this indexes for columns: [0 1 2 0]\n"
     ]
    }
   ],
   "source": [
    "# Let's create 2 arrays with integer numbers that we'll use as indexes\n",
    "columns = np.array([0, 1, 2, 0])\n",
    "# The method \"arange()\" generates a consecutive sequence of numbers from 0 to n-1 (in this example, 3)\n",
    "rows = np.arange(4)\n",
    "print(\"We choose this indexes for rows:\",rows)\n",
    "print(\"We choose this indexes for columns:\",columns)"
   ]
  },
  {
   "cell_type": "code",
   "execution_count": 13,
   "id": "25e2b295",
   "metadata": {},
   "outputs": [
    {
     "name": "stdout",
     "output_type": "stream",
     "text": [
      "( 0 , 0 )\n",
      "( 1 , 1 )\n",
      "( 2 , 2 )\n",
      "( 3 , 0 )\n"
     ]
    }
   ],
   "source": [
    "# We can print the indexes by columns from both arrays\n",
    "for row,col in zip(rows,columns):\n",
    "    print(\"(\",row,\",\",col,\")\")"
   ]
  },
  {
   "cell_type": "code",
   "execution_count": 14,
   "id": "10de7408",
   "metadata": {},
   "outputs": [
    {
     "name": "stdout",
     "output_type": "stream",
     "text": [
      "The values contained in the indexes are: [11 22 33 41]\n"
     ]
    }
   ],
   "source": [
    "# So now to choose an element from a row we'll do it this way\n",
    "print(\"The values contained in the indexes are:\",array_a[rows, columns])"
   ]
  },
  {
   "cell_type": "code",
   "execution_count": 15,
   "id": "188ab18e",
   "metadata": {},
   "outputs": [
    {
     "name": "stdout",
     "output_type": "stream",
     "text": [
      "[[11 12 13]\n",
      " [21 22 23]\n",
      " [31 32 33]\n",
      " [41 42 43]]\n",
      "\n",
      "New array:\n",
      "\n",
      "[[1011   12   13]\n",
      " [  21 1022   23]\n",
      " [  31   32 1033]\n",
      " [1041   42   43]]\n"
     ]
    }
   ],
   "source": [
    "# Let's operate with the selected values\n",
    "print(array_a)\n",
    "array_a[rows, columns] += 1000\n",
    "print(\"\\nNew array:\\n\")\n",
    "print(array_a)"
   ]
  },
  {
   "cell_type": "markdown",
   "id": "ab833c5f",
   "metadata": {},
   "source": [
    "# Indexed boolean\n",
    "Indexed boolean to chage elements"
   ]
  },
  {
   "cell_type": "code",
   "execution_count": 16,
   "id": "a30e4d30",
   "metadata": {},
   "outputs": [
    {
     "name": "stdout",
     "output_type": "stream",
     "text": [
      "[[11 12]\n",
      " [21 22]\n",
      " [31 32]]\n",
      "_________\n",
      "(3, 2)\n"
     ]
    }
   ],
   "source": [
    "# We'll create an array of 3x2 dimensions\n",
    "array_b = np.array([[11,12], [21,22], [31, 32]])\n",
    "print(array_b)\n",
    "print(\"_________\")\n",
    "print(array_b.shape)"
   ]
  },
  {
   "cell_type": "code",
   "execution_count": 17,
   "id": "2ee04f55",
   "metadata": {},
   "outputs": [
    {
     "name": "stdout",
     "output_type": "stream",
     "text": [
      "[[False False]\n",
      " [ True  True]\n",
      " [ True  True]]\n",
      "[21 22 31 32]\n"
     ]
    }
   ],
   "source": [
    "# Creating a filter is really easy with Numpy\n",
    "filter = (array_b > 15)\n",
    "print(filter)\n",
    "# Then we can have a new array with the filtered numbers\n",
    "filtered = array_b[filter]\n",
    "print(filtered)"
   ]
  },
  {
   "cell_type": "code",
   "execution_count": 18,
   "id": "f11a4ebf",
   "metadata": {},
   "outputs": [
    {
     "name": "stdout",
     "output_type": "stream",
     "text": [
      "[12 22 32]\n"
     ]
    }
   ],
   "source": [
    "# This way you don't have to create the filter first and then apply it, we can do it in the same line of code\n",
    "print(array_b[(array_b % 2 == 0)])"
   ]
  },
  {
   "cell_type": "markdown",
   "id": "d2974f74",
   "metadata": {},
   "source": [
    "##### The principal use of this type of filters is to modify the values inside of the array that meet certain criteria"
   ]
  },
  {
   "cell_type": "code",
   "execution_count": 19,
   "id": "659e16b9",
   "metadata": {},
   "outputs": [
    {
     "name": "stdout",
     "output_type": "stream",
     "text": [
      "Full array:\n",
      " [[11 12]\n",
      " [21 22]\n",
      " [31 32]]\n",
      "\n",
      "Filtered array:\n",
      " [12 22 32]\n",
      "\n",
      "Array after changing only the filtered values:\n",
      " [[  11 1012]\n",
      " [  21 1022]\n",
      " [  31 1032]]\n"
     ]
    }
   ],
   "source": [
    "print(\"Full array:\\n\",array_b)\n",
    "print(\"\\nFiltered array:\\n\", array_b[array_b % 2 == 0])\n",
    "array_b[array_b % 2 == 0] += 1000\n",
    "print(\"\\nArray after changing only the filtered values:\\n\",array_b)"
   ]
  },
  {
   "cell_type": "markdown",
   "id": "69ddea80",
   "metadata": {},
   "source": [
    "# Slicing arrays\n",
    "To slice an array is useful to isolate a \"subregion\" of the array to a ndarray"
   ]
  },
  {
   "cell_type": "code",
   "execution_count": 20,
   "id": "bcd3c7e7",
   "metadata": {},
   "outputs": [
    {
     "name": "stdout",
     "output_type": "stream",
     "text": [
      "[[11 12 13 14 15 16]\n",
      " [21 22 23 24 25 26]\n",
      " [31 32 33 34 35 36]\n",
      " [41 42 43 44 45 46]]\n",
      "\n",
      "Array sliced:\n",
      " [[12 13]\n",
      " [22 23]]\n"
     ]
    }
   ],
   "source": [
    "# We create a normal array first\n",
    "to_slice_array = np.array([[11,12,13,14,15,16], [21,22,23,24,25,26], [31,32,33,34,35,36], [41,42,43,44,45,46]])\n",
    "print(to_slice_array)\n",
    "#Then we'll slice it into a 2x2 array; first position are rows and second one are columns, last number isn't included\n",
    "a_slice = to_slice_array[:2, 1:3]\n",
    "print(\"\\nArray sliced:\\n\",a_slice)"
   ]
  },
  {
   "cell_type": "code",
   "execution_count": 21,
   "id": "3d462bf7",
   "metadata": {},
   "outputs": [
    {
     "name": "stdout",
     "output_type": "stream",
     "text": [
      "Slice: 12\n"
     ]
    }
   ],
   "source": [
    "# Let's print the value in row 0 column 0 of the slice; the output will generate a new index\n",
    "print(\"Slice:\",a_slice[0,0])\n",
    "# Why 12?, it's because we already sliced this array before, so the first position changed to the number 12."
   ]
  },
  {
   "cell_type": "code",
   "execution_count": 22,
   "id": "f52ec682",
   "metadata": {},
   "outputs": [
    {
     "name": "stdout",
     "output_type": "stream",
     "text": [
      "Slice: 112\n"
     ]
    }
   ],
   "source": [
    "a_slice[0,0] += 100\n",
    "print(\"Slice:\", a_slice[0,0])"
   ]
  },
  {
   "cell_type": "code",
   "execution_count": 24,
   "id": "75b08df7",
   "metadata": {},
   "outputs": [
    {
     "name": "stdout",
     "output_type": "stream",
     "text": [
      "Original array: 112\n"
     ]
    }
   ],
   "source": [
    "# Why did the slice value affect the original array? It's because slices are pointers; it isn't a new array\n",
    "print(\"Original array:\", to_slice_array[0,1])"
   ]
  },
  {
   "cell_type": "code",
   "execution_count": 26,
   "id": "d535ec5f",
   "metadata": {},
   "outputs": [
    {
     "name": "stdout",
     "output_type": "stream",
     "text": [
      "[[ 11 112  13  14  15  16]\n",
      " [ 21  22  23  24  25  26]\n",
      " [ 31  32  33  34  35  36]\n",
      " [ 41  42  43  44  45  46]]\n"
     ]
    },
    {
     "data": {
      "text/plain": [
       "numpy.ndarray"
      ]
     },
     "execution_count": 26,
     "metadata": {},
     "output_type": "execute_result"
    }
   ],
   "source": [
    "# We confirm here that a slice is no more than a pointer/shortcut of the original array.\n",
    "print(to_slice_array)\n",
    "type(a_slice)"
   ]
  },
  {
   "cell_type": "markdown",
   "id": "00a9f4f9",
   "metadata": {},
   "source": [
    "##### Sooo, what if we want a new array from a slice?"
   ]
  },
  {
   "cell_type": "code",
   "execution_count": 27,
   "id": "2fbb8d74",
   "metadata": {},
   "outputs": [
    {
     "name": "stdout",
     "output_type": "stream",
     "text": [
      "[[112  13]\n",
      " [ 22  23]]\n"
     ]
    }
   ],
   "source": [
    "new_array = np.array(a_slice)\n",
    "print(new_array)"
   ]
  },
  {
   "cell_type": "code",
   "execution_count": 28,
   "id": "6093c69d",
   "metadata": {},
   "outputs": [
    {
     "name": "stdout",
     "output_type": "stream",
     "text": [
      "[112  22  32  42] (4,)\n"
     ]
    }
   ],
   "source": [
    "row_rank1 = to_slice_array[:, 1]\n",
    "print(row_rank1, row_rank1.shape)"
   ]
  },
  {
   "cell_type": "markdown",
   "id": "5a073418",
   "metadata": {},
   "source": [
    "# Data types of arrays in numpy"
   ]
  },
  {
   "cell_type": "code",
   "execution_count": 31,
   "id": "af2ccbab",
   "metadata": {},
   "outputs": [
    {
     "name": "stdout",
     "output_type": "stream",
     "text": [
      "int32\n"
     ]
    }
   ],
   "source": [
    "# In this case Python assigns the data type of the structure by himself\n",
    "ex1 = np.array([11, 12])\n",
    "print(ex1.dtype)"
   ]
  },
  {
   "cell_type": "code",
   "execution_count": 30,
   "id": "4d8e3922",
   "metadata": {},
   "outputs": [
    {
     "name": "stdout",
     "output_type": "stream",
     "text": [
      "float64\n"
     ]
    }
   ],
   "source": [
    "# Python assigns the data type\n",
    "ex2 = np.array([11.0, 12.0])\n",
    "print(ex2.dtype)"
   ]
  },
  {
   "cell_type": "code",
   "execution_count": 34,
   "id": "f17ed31e",
   "metadata": {},
   "outputs": [
    {
     "name": "stdout",
     "output_type": "stream",
     "text": [
      "float64\n",
      "int64\n",
      "\n",
      " [11 12]\n"
     ]
    }
   ],
   "source": [
    "# We can also force the data type implicitly like this (from integer to float and viceversa)\n",
    "ex3 = np.array([11, 12], dtype=np.float64)\n",
    "print(ex3.dtype)\n",
    "ex4 = np.array([11.1, 12.7], dtype=np.int64)\n",
    "print(ex4.dtype)\n",
    "print(\"\\n\",ex4)"
   ]
  },
  {
   "cell_type": "markdown",
   "id": "c86a4ed9",
   "metadata": {},
   "source": [
    "# Arithmetic operations"
   ]
  },
  {
   "cell_type": "code",
   "execution_count": 37,
   "id": "93304f0b",
   "metadata": {},
   "outputs": [
    {
     "name": "stdout",
     "output_type": "stream",
     "text": [
      "[[111 112]\n",
      " [121 122]]\n",
      "\n",
      " [[211.1 212.1]\n",
      " [221.1 222.1]]\n"
     ]
    }
   ],
   "source": [
    "x = np.array([[111, 112],[121,122]], dtype=np.int64)\n",
    "y = np.array([[211.1, 212.1],[221.1,222.1]], dtype=np.float64)\n",
    "\n",
    "print(x)\n",
    "print(\"\\n\",y)"
   ]
  },
  {
   "cell_type": "code",
   "execution_count": 43,
   "id": "8e60703b",
   "metadata": {},
   "outputs": [
    {
     "name": "stdout",
     "output_type": "stream",
     "text": [
      "[[-100.1 -100.1]\n",
      " [-100.1 -100.1]]\n",
      "\n",
      " [[-100.1 -100.1]\n",
      " [-100.1 -100.1]]\n"
     ]
    }
   ],
   "source": [
    "# Subtraction (both ways)\n",
    "print(x - y)\n",
    "print(\"\\n\",np.subtract(x, y))"
   ]
  },
  {
   "cell_type": "code",
   "execution_count": 44,
   "id": "b11f03f5",
   "metadata": {},
   "outputs": [
    {
     "name": "stdout",
     "output_type": "stream",
     "text": [
      "[[23432.1 23755.2]\n",
      " [26753.1 27096.2]]\n",
      "\n",
      " [[23432.1 23755.2]\n",
      " [26753.1 27096.2]]\n"
     ]
    }
   ],
   "source": [
    "# Multiplication (both ways)\n",
    "print(x * y)\n",
    "print(\"\\n\", np.multiply(x, y))"
   ]
  },
  {
   "cell_type": "code",
   "execution_count": 45,
   "id": "407130b3",
   "metadata": {},
   "outputs": [
    {
     "name": "stdout",
     "output_type": "stream",
     "text": [
      "[[0.52581715 0.52805281]\n",
      " [0.54726368 0.54930212]]\n",
      "\n",
      " [[0.52581715 0.52805281]\n",
      " [0.54726368 0.54930212]]\n"
     ]
    }
   ],
   "source": [
    "# Division (both ways)\n",
    "print(x / y)\n",
    "print(\"\\n\",np.divide(x, y))"
   ]
  },
  {
   "cell_type": "code",
   "execution_count": null,
   "id": "60779455",
   "metadata": {},
   "outputs": [],
   "source": [
    "# Square root\n",
    "print(np.sqrt(x))"
   ]
  }
 ],
 "metadata": {
  "kernelspec": {
   "display_name": "Python 3 (ipykernel)",
   "language": "python",
   "name": "python3"
  },
  "language_info": {
   "codemirror_mode": {
    "name": "ipython",
    "version": 3
   },
   "file_extension": ".py",
   "mimetype": "text/x-python",
   "name": "python",
   "nbconvert_exporter": "python",
   "pygments_lexer": "ipython3",
   "version": "3.11.5"
  }
 },
 "nbformat": 4,
 "nbformat_minor": 5
}
