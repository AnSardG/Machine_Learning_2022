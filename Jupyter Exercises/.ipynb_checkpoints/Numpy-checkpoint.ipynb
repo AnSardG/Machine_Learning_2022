{
 "cells": [
  {
   "cell_type": "markdown",
   "id": "c4bbf063",
   "metadata": {},
   "source": [
    "# Numpy\n",
    "\n",
    "Numpy is one of the most important libraries of Python, we're going\n",
    "to see why is this and also examples of how to use it and what is it used for.\n",
    "\n",
    "It let's you realize maths with numeric arrays at high speed, instead \n",
    "the normal lists of Python; also it has a really wide set of tools to make\n",
    "operations eficiently and with less code.\n",
    "\n",
    "Also, most of Python's libraries are based on Numpy, for example: Pandas."
   ]
  },
  {
   "cell_type": "code",
   "execution_count": 4,
   "id": "5e453e91",
   "metadata": {},
   "outputs": [
    {
     "name": "stdout",
     "output_type": "stream",
     "text": [
      "<class 'numpy.ndarray'>\n"
     ]
    }
   ],
   "source": [
    "# You use the alias \"np\" to name the library\n",
    "import numpy as np\n",
    "\"\"\"\n",
    "We create a \"np\" array of range 1 (one dimension) with the method \"array()\",\n",
    "the numbers between square brackets are rows from the array and each number separated\n",
    "with commas are the columns.\n",
    "\"\"\"\n",
    "an_array = np.array([7, 77, 777])\n",
    "# This variable is a type \"numpy.ndarray\", n (number) of \"d\" (dimensions) of this array.\n",
    "print(type(an_array))"
   ]
  },
  {
   "cell_type": "code",
   "execution_count": 15,
   "id": "d35c1193",
   "metadata": {},
   "outputs": [
    {
     "name": "stdout",
     "output_type": "stream",
     "text": [
      "<class 'tuple'>\n",
      "(4,)\n",
      "Shape of the array: (2, 3)\n",
      "[[1 2 3]\n",
      " [4 5 6]]\n"
     ]
    }
   ],
   "source": [
    "# We search what's the data type of the array's shape object and then we print the shape of the array.\n",
    "print (type(an_array.shape))\n",
    "# Since it's only 1 dimension you will only see a number meaning how many columns it has.\n",
    "print(an_array.shape)\n",
    "# Now this is how you create a two dimensions array, and each dimension should have the same lenght.\n",
    "a_two_dimension_array = np.array([[1, 2, 3], [4, 5, 6]])\n",
    "print(\"Shape of the array:\", a_two_dimension_array.shape)\n",
    "print(a_two_dimension_array)"
   ]
  },
  {
   "cell_type": "code",
   "execution_count": 17,
   "id": "31736b3b",
   "metadata": {},
   "outputs": [
    {
     "name": "stdout",
     "output_type": "stream",
     "text": [
      "7\n",
      "77\n",
      "777\n",
      "200\n"
     ]
    }
   ],
   "source": [
    "# How to access those variables\n",
    "print(an_array[0])\n",
    "print(an_array[1])\n",
    "print(an_array[2])\n",
    "an_array[2] = 200\n",
    "print(an_array[2])"
   ]
  },
  {
   "cell_type": "markdown",
   "id": "14ac71ef",
   "metadata": {},
   "source": [
    "# How to create a multidimensional array"
   ]
  },
  {
   "cell_type": "code",
   "execution_count": 18,
   "id": "4b14443b",
   "metadata": {},
   "outputs": [
    {
     "name": "stdout",
     "output_type": "stream",
     "text": [
      "Shape of this array is:  (3, 3)\n"
     ]
    }
   ],
   "source": [
    "multidimensional_array = np.array([[11, 12, 13], [22, 23, 24], [35, 36, 37]])\n",
    "print(\"Shape of this array is:\",multidimensional_array.shape)"
   ]
  },
  {
   "cell_type": "code",
   "execution_count": 20,
   "id": "f6cea403",
   "metadata": {},
   "outputs": [
    {
     "name": "stdout",
     "output_type": "stream",
     "text": [
      "This is how I access a value of this two-dimension array: 35\n",
      "This is how I print the full array\n",
      "[[11 12 13]\n",
      " [22 23 24]\n",
      " [35 36 37]]\n"
     ]
    }
   ],
   "source": [
    "print(\"This is how I access a value of this two-dimension array:\",multidimensional_array[2, 0])\n",
    "print(\"This is how I print the full array\")\n",
    "print(multidimensional_array)"
   ]
  },
  {
   "cell_type": "markdown",
   "id": "ed7295ba",
   "metadata": {},
   "source": [
    "$ I^{3 \\times 3} =\n",
    "\\left( \\begin{array}{cccc}\n",
    " 11 & 12 & 13 \\\\\n",
    " 22 & 23 & 24 \\\\\n",
    " 35 & 36 & 37 \\\\\n",
    "\\end{array} \\right) $"
   ]
  },
  {
   "cell_type": "markdown",
   "id": "8f683151",
   "metadata": {},
   "source": [
    "# Multiple ways of creating nd arrays"
   ]
  },
  {
   "cell_type": "code",
   "execution_count": 25,
   "id": "0cc35135",
   "metadata": {},
   "outputs": [
    {
     "name": "stdout",
     "output_type": "stream",
     "text": [
      "[[0. 0. 0. ... 0. 0. 0.]\n",
      " [0. 0. 0. ... 0. 0. 0.]\n",
      " [0. 0. 0. ... 0. 0. 0.]\n",
      " ...\n",
      " [0. 0. 0. ... 0. 0. 0.]\n",
      " [0. 0. 0. ... 0. 0. 0.]\n",
      " [0. 0. 0. ... 0. 0. 0.]]\n",
      "[[[0. 0. 0. 0. 0.]\n",
      "  [0. 0. 0. 0. 0.]\n",
      "  [0. 0. 0. 0. 0.]\n",
      "  ...\n",
      "  [0. 0. 0. 0. 0.]\n",
      "  [0. 0. 0. 0. 0.]\n",
      "  [0. 0. 0. 0. 0.]]\n",
      "\n",
      " [[0. 0. 0. 0. 0.]\n",
      "  [0. 0. 0. 0. 0.]\n",
      "  [0. 0. 0. 0. 0.]\n",
      "  ...\n",
      "  [0. 0. 0. 0. 0.]\n",
      "  [0. 0. 0. 0. 0.]\n",
      "  [0. 0. 0. 0. 0.]]\n",
      "\n",
      " [[0. 0. 0. 0. 0.]\n",
      "  [0. 0. 0. 0. 0.]\n",
      "  [0. 0. 0. 0. 0.]\n",
      "  ...\n",
      "  [0. 0. 0. 0. 0.]\n",
      "  [0. 0. 0. 0. 0.]\n",
      "  [0. 0. 0. 0. 0.]]\n",
      "\n",
      " ...\n",
      "\n",
      " [[0. 0. 0. 0. 0.]\n",
      "  [0. 0. 0. 0. 0.]\n",
      "  [0. 0. 0. 0. 0.]\n",
      "  ...\n",
      "  [0. 0. 0. 0. 0.]\n",
      "  [0. 0. 0. 0. 0.]\n",
      "  [0. 0. 0. 0. 0.]]\n",
      "\n",
      " [[0. 0. 0. 0. 0.]\n",
      "  [0. 0. 0. 0. 0.]\n",
      "  [0. 0. 0. 0. 0.]\n",
      "  ...\n",
      "  [0. 0. 0. 0. 0.]\n",
      "  [0. 0. 0. 0. 0.]\n",
      "  [0. 0. 0. 0. 0.]]\n",
      "\n",
      " [[0. 0. 0. 0. 0.]\n",
      "  [0. 0. 0. 0. 0.]\n",
      "  [0. 0. 0. 0. 0.]\n",
      "  ...\n",
      "  [0. 0. 0. 0. 0.]\n",
      "  [0. 0. 0. 0. 0.]\n",
      "  [0. 0. 0. 0. 0.]]]\n"
     ]
    }
   ],
   "source": [
    "#How to create a full-zero array, with the method \"zeros()\"\n",
    "i1 = np.zeros((1080, 1920))\n",
    "print(i1)\n",
    "# How can we add a dimension color? With another dimension with colours (red, green, blue, alpha, ultraviolet)\n",
    "i1 = np.zeros((1080, 1920, 5))\n",
    "print (i1)"
   ]
  },
  {
   "cell_type": "code",
   "execution_count": 22,
   "id": "809dc601",
   "metadata": {},
   "outputs": [
    {
     "name": "stdout",
     "output_type": "stream",
     "text": [
      "[[9.1 9.1]\n",
      " [9.1 9.1]]\n"
     ]
    }
   ],
   "source": [
    "\"\"\"\n",
    "This method will fill all the numbers from an array with the method \"full()\"; first\n",
    "argument means the dimensions of the array and the second the number you want to fill in in each position\n",
    "\"\"\"\n",
    "i2 = np.full((2,2), 9.1)\n",
    "print(i2)"
   ]
  },
  {
   "cell_type": "code",
   "execution_count": 23,
   "id": "3c86309a",
   "metadata": {},
   "outputs": [
    {
     "name": "stdout",
     "output_type": "stream",
     "text": [
      "[[1. 0. 0. 0. 0. 0. 0.]\n",
      " [0. 1. 0. 0. 0. 0. 0.]\n",
      " [0. 0. 1. 0. 0. 0. 0.]\n",
      " [0. 0. 0. 1. 0. 0. 0.]\n",
      " [0. 0. 0. 0. 1. 0. 0.]\n",
      " [0. 0. 0. 0. 0. 1. 0.]\n",
      " [0. 0. 0. 0. 0. 0. 1.]]\n"
     ]
    }
   ],
   "source": [
    "# The method \"eye()\" creates an identity matrix\n",
    "i3 = np.eye(7,7)\n",
    "print(i3)"
   ]
  },
  {
   "cell_type": "code",
   "execution_count": 24,
   "id": "3ea2f7a0",
   "metadata": {},
   "outputs": [
    {
     "name": "stdout",
     "output_type": "stream",
     "text": [
      "[[[1. 1.]\n",
      "  [1. 1.]\n",
      "  [1. 1.]\n",
      "  [1. 1.]\n",
      "  [1. 1.]\n",
      "  [1. 1.]\n",
      "  [1. 1.]]\n",
      "\n",
      " [[1. 1.]\n",
      "  [1. 1.]\n",
      "  [1. 1.]\n",
      "  [1. 1.]\n",
      "  [1. 1.]\n",
      "  [1. 1.]\n",
      "  [1. 1.]]\n",
      "\n",
      " [[1. 1.]\n",
      "  [1. 1.]\n",
      "  [1. 1.]\n",
      "  [1. 1.]\n",
      "  [1. 1.]\n",
      "  [1. 1.]\n",
      "  [1. 1.]]\n",
      "\n",
      " [[1. 1.]\n",
      "  [1. 1.]\n",
      "  [1. 1.]\n",
      "  [1. 1.]\n",
      "  [1. 1.]\n",
      "  [1. 1.]\n",
      "  [1. 1.]]\n",
      "\n",
      " [[1. 1.]\n",
      "  [1. 1.]\n",
      "  [1. 1.]\n",
      "  [1. 1.]\n",
      "  [1. 1.]\n",
      "  [1. 1.]\n",
      "  [1. 1.]]\n",
      "\n",
      " [[1. 1.]\n",
      "  [1. 1.]\n",
      "  [1. 1.]\n",
      "  [1. 1.]\n",
      "  [1. 1.]\n",
      "  [1. 1.]\n",
      "  [1. 1.]]\n",
      "\n",
      " [[1. 1.]\n",
      "  [1. 1.]\n",
      "  [1. 1.]\n",
      "  [1. 1.]\n",
      "  [1. 1.]\n",
      "  [1. 1.]\n",
      "  [1. 1.]]\n",
      "\n",
      " [[1. 1.]\n",
      "  [1. 1.]\n",
      "  [1. 1.]\n",
      "  [1. 1.]\n",
      "  [1. 1.]\n",
      "  [1. 1.]\n",
      "  [1. 1.]]\n",
      "\n",
      " [[1. 1.]\n",
      "  [1. 1.]\n",
      "  [1. 1.]\n",
      "  [1. 1.]\n",
      "  [1. 1.]\n",
      "  [1. 1.]\n",
      "  [1. 1.]]\n",
      "\n",
      " [[1. 1.]\n",
      "  [1. 1.]\n",
      "  [1. 1.]\n",
      "  [1. 1.]\n",
      "  [1. 1.]\n",
      "  [1. 1.]\n",
      "  [1. 1.]]]\n"
     ]
    }
   ],
   "source": [
    "# This method creates an array full of ones\n",
    "i4 = np.ones((10,7,2))\n",
    "print (i4)"
   ]
  },
  {
   "cell_type": "code",
   "execution_count": 26,
   "id": "65c20d82",
   "metadata": {},
   "outputs": [
    {
     "name": "stdout",
     "output_type": "stream",
     "text": [
      "[[0.69388803 0.43459109 0.95679906 0.90415641 0.55813781]\n",
      " [0.32745411 0.20352935 0.08898136 0.17761109 0.1603336 ]\n",
      " [0.46054914 0.93561055 0.83772828 0.88674495 0.0495275 ]\n",
      " [0.80420444 0.74649425 0.4199305  0.16697614 0.06411974]\n",
      " [0.35098443 0.67965012 0.85275943 0.68997237 0.88733409]]\n"
     ]
    }
   ],
   "source": [
    "\"\"\"\n",
    "We can also create an array full of random floats between 0 and 1; we're using the method\n",
    "inside numpy's class \"random\" called also \"random()\".\n",
    "\"\"\"\n",
    "i5 = np.random.random((5,5))\n",
    "print(i5)"
   ]
  },
  {
   "cell_type": "markdown",
   "id": "949a278a",
   "metadata": {},
   "source": [
    "# Array with indexes\n",
    "Sometimes preparing a series of indexes in an array is useful to utilize them to operate other arrays"
   ]
  },
  {
   "cell_type": "code",
   "execution_count": 28,
   "id": "94a62f2a",
   "metadata": {},
   "outputs": [
    {
     "name": "stdout",
     "output_type": "stream",
     "text": [
      "[[11 12 13]\n",
      " [21 22 23]\n",
      " [31 32 33]\n",
      " [41 42 43]]\n",
      "(4, 3)\n"
     ]
    }
   ],
   "source": [
    "#Let's create a new two-dimensional array\n",
    "array_a = np.array([[11, 12, 13], [21, 22, 23], [31, 32, 33], [41, 42, 43]])\n",
    "print(array_a)\n",
    "print(array_a.shape)"
   ]
  },
  {
   "cell_type": "code",
   "execution_count": 29,
   "id": "44694311",
   "metadata": {},
   "outputs": [
    {
     "name": "stdout",
     "output_type": "stream",
     "text": [
      "We choose this indexes for rows: [0 1 2 3]\n",
      "We choose this indexes for columns: [0 1 2 0]\n"
     ]
    }
   ],
   "source": [
    "# Let's create 2 arrays with integer numbers that we'll use as indexes\n",
    "columns = np.array([0, 1, 2, 0])\n",
    "# The method \"arange()\" generates a consecutive sequence of numbers from 0 to n-1 (in this example, 3)\n",
    "rows = np.arange(4)\n",
    "print(\"We choose this indexes for rows:\",rows)\n",
    "print(\"We choose this indexes for columns:\",columns)"
   ]
  },
  {
   "cell_type": "code",
   "execution_count": 30,
   "id": "129e7c9f",
   "metadata": {},
   "outputs": [
    {
     "name": "stdout",
     "output_type": "stream",
     "text": [
      "( 0 , 0 )\n",
      "( 1 , 1 )\n",
      "( 2 , 2 )\n",
      "( 3 , 0 )\n"
     ]
    }
   ],
   "source": [
    "# We can print the indexes by columns from both arrays\n",
    "for row,col in zip(rows,columns):\n",
    "    print(\"(\",row,\",\",col,\")\")"
   ]
  },
  {
   "cell_type": "code",
   "execution_count": 31,
   "id": "79be021e",
   "metadata": {},
   "outputs": [
    {
     "name": "stdout",
     "output_type": "stream",
     "text": [
      "The values contained in the indexes are: [11 22 33 41]\n"
     ]
    }
   ],
   "source": [
    "# So now to choose an element from a row we'll do it this way\n",
    "print(\"The values contained in the indexes are:\",array_a[rows, columns])"
   ]
  },
  {
   "cell_type": "code",
   "execution_count": 34,
   "id": "058998bb",
   "metadata": {},
   "outputs": [
    {
     "name": "stdout",
     "output_type": "stream",
     "text": [
      "[[2011   12   13]\n",
      " [  21 2022   23]\n",
      " [  31   32 2033]\n",
      " [2041   42   43]]\n",
      "\n",
      "New array:\n",
      "\n",
      "[[3011   12   13]\n",
      " [  21 3022   23]\n",
      " [  31   32 3033]\n",
      " [3041   42   43]]\n"
     ]
    }
   ],
   "source": [
    "# Let's operate with the selected values\n",
    "print(array_a)\n",
    "array_a[rows, columns] += 1000\n",
    "print(\"\\nNew array:\\n\")\n",
    "print(array_a)"
   ]
  },
  {
   "cell_type": "markdown",
   "id": "70f49a49",
   "metadata": {},
   "source": [
    "# Indexed boolean\n",
    "Indexed boolean to chage elements"
   ]
  },
  {
   "cell_type": "code",
   "execution_count": 39,
   "id": "51f5f25b",
   "metadata": {},
   "outputs": [
    {
     "name": "stdout",
     "output_type": "stream",
     "text": [
      "[[11 12]\n",
      " [21 22]\n",
      " [31 32]]\n",
      "_________\n",
      "(3, 2)\n"
     ]
    }
   ],
   "source": [
    "# We'll create an array of 3x2 dimensions\n",
    "array_b = np.array([[11,12], [21,22], [31, 32]])\n",
    "print(array_b)\n",
    "print(\"_________\")\n",
    "print(array_b.shape)"
   ]
  },
  {
   "cell_type": "code",
   "execution_count": 40,
   "id": "0c762d0c",
   "metadata": {},
   "outputs": [
    {
     "name": "stdout",
     "output_type": "stream",
     "text": [
      "[[False False]\n",
      " [ True  True]\n",
      " [ True  True]]\n"
     ]
    }
   ],
   "source": [
    "# Creating a filter is really easy with Numpy\n",
    "filter = (array_b > 15)\n",
    "print(filter)\n",
    "# Then we can have a new array with the filtered numbers\n",
    "filtered = array_b[filter]\n",
    "print(filtered)"
   ]
  },
  {
   "cell_type": "code",
   "execution_count": 45,
   "id": "43353d1d",
   "metadata": {},
   "outputs": [
    {
     "name": "stdout",
     "output_type": "stream",
     "text": [
      "[12 22 32]\n"
     ]
    }
   ],
   "source": [
    "# This way you don't have to create the filter first and then apply it, we can do it in the same line of code\n",
    "print(array_b[(array_b % 2 == 0)])"
   ]
  },
  {
   "cell_type": "markdown",
   "id": "821dc820",
   "metadata": {},
   "source": [
    "##### The principal use of this type of filters is to modify the values inside of the array that meet certain criteria"
   ]
  },
  {
   "cell_type": "code",
   "execution_count": 47,
   "id": "a2e8fd14",
   "metadata": {},
   "outputs": [
    {
     "name": "stdout",
     "output_type": "stream",
     "text": [
      "Full array:\n",
      " [[  11 1012]\n",
      " [  21 1022]\n",
      " [  31 1032]]\n",
      "\n",
      "Array with filter:\n",
      " [1012 1022 1032]\n",
      "\n",
      "Array after changing only filtered values:\n",
      " [[  11 2012]\n",
      " [  21 2022]\n",
      " [  31 2032]]\n"
     ]
    }
   ],
   "source": [
    "print(\"Full array:\\n\",array_b)\n",
    "print(\"\\nFiltered array:\\n\", array_b[array_b % 2 == 0])\n",
    "array_b[array_b % 2 == 0] += 1000\n",
    "print(\"\\nArray after changing only filtered values:\\n\",array_b)"
   ]
  },
  {
   "cell_type": "code",
   "execution_count": null,
   "id": "25fd169b",
   "metadata": {},
   "outputs": [],
   "source": []
  }
 ],
 "metadata": {
  "kernelspec": {
   "display_name": "Python 3 (ipykernel)",
   "language": "python",
   "name": "python3"
  },
  "language_info": {
   "codemirror_mode": {
    "name": "ipython",
    "version": 3
   },
   "file_extension": ".py",
   "mimetype": "text/x-python",
   "name": "python",
   "nbconvert_exporter": "python",
   "pygments_lexer": "ipython3",
   "version": "3.11.4"
  }
 },
 "nbformat": 4,
 "nbformat_minor": 5
}
