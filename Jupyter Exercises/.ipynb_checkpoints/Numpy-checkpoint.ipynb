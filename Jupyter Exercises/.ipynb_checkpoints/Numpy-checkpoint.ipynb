{
 "cells": [
  {
   "cell_type": "markdown",
   "id": "f35d71bc",
   "metadata": {},
   "source": [
    "# Numpy\n",
    "\n",
    "Numpy is one of the most important libraries of Python, we're going\n",
    "to see why is this and also examples of how to use it and what is it used for.\n",
    "\n",
    "It let's you realize maths with numeric arrays at high speed, instead \n",
    "the normal lists of Python; also it has a really wide set of tools to make\n",
    "operations eficiently and with less code.\n",
    "\n",
    "Also, most of Python's libraries are based on Numpy, for example: Pandas."
   ]
  },
  {
   "cell_type": "code",
   "execution_count": null,
   "id": "f64cd189",
   "metadata": {},
   "outputs": [],
   "source": []
  }
 ],
 "metadata": {
  "kernelspec": {
   "display_name": "Python 3 (ipykernel)",
   "language": "python",
   "name": "python3"
  },
  "language_info": {
   "codemirror_mode": {
    "name": "ipython",
    "version": 3
   },
   "file_extension": ".py",
   "mimetype": "text/x-python",
   "name": "python",
   "nbconvert_exporter": "python",
   "pygments_lexer": "ipython3",
   "version": "3.11.4"
  }
 },
 "nbformat": 4,
 "nbformat_minor": 5
}
