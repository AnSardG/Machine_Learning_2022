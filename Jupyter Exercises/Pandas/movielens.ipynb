{
 "cells": [
  {
   "cell_type": "markdown",
   "id": "cffd0022",
   "metadata": {},
   "source": [
    "# Case study. Movielens"
   ]
  },
  {
   "cell_type": "code",
   "execution_count": 9,
   "id": "6077fa3f",
   "metadata": {},
   "outputs": [
    {
     "name": "stdout",
     "output_type": "stream",
     "text": [
      " El volumen de la unidad C no tiene etiqueta.\n",
      " El número de serie del volumen es: D2F9-5EFA\n",
      "\n",
      " Directorio de C:\\Users\\rehmi\\Documents\\Machine_Learning_2022\\Jupyter Exercises\n",
      "\n",
      "07/10/2023  18:52    <DIR>          .\n",
      "07/10/2023  18:52    <DIR>          ..\n",
      "07/10/2023  18:50    <DIR>          .ipynb_checkpoints\n",
      "02/10/2023  22:28               144 important_array.npy\n",
      "02/10/2023  20:38            28.569 instalar_libreria_y_temas.ipynb\n",
      "28/09/2023  18:52            33.566 introduccion_jupyter.ipynb\n",
      "07/10/2023  18:52             1.203 movielens.ipynb\n",
      "02/10/2023  23:49            47.340 Numpy.ipynb\n",
      "07/10/2023  18:48            38.792 pandas.ipynb\n",
      "05/10/2023  16:05         7.213.158 processing_images.ipynb\n",
      "               7 archivos      7.362.772 bytes\n",
      "               3 dirs  41.975.250.944 bytes libres\n"
     ]
    },
    {
     "name": "stderr",
     "output_type": "stream",
     "text": [
      "El nombre del directorio no es válido.\n"
     ]
    }
   ],
   "source": [
    "!DIR\n",
    "!cd movielens"
   ]
  },
  {
   "cell_type": "code",
   "execution_count": null,
   "id": "8799e3e1",
   "metadata": {},
   "outputs": [],
   "source": []
  }
 ],
 "metadata": {
  "kernelspec": {
   "display_name": "Python 3 (ipykernel)",
   "language": "python",
   "name": "python3"
  },
  "language_info": {
   "codemirror_mode": {
    "name": "ipython",
    "version": 3
   },
   "file_extension": ".py",
   "mimetype": "text/x-python",
   "name": "python",
   "nbconvert_exporter": "python",
   "pygments_lexer": "ipython3",
   "version": "3.11.4"
  }
 },
 "nbformat": 4,
 "nbformat_minor": 5
}
