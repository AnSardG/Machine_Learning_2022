{
 "cells": [
  {
   "cell_type": "markdown",
   "id": "bf6e7894",
   "metadata": {},
   "source": [
    "# Numpy\n",
    "\n",
    "Numpy is one of the most important libraries of Python, we're going\n",
    "to see why is this and also examples of how to use it and what is it used for.\n",
    "\n",
    "It let's you realize maths with numeric arrays at high speed, instead \n",
    "the normal lists of Python; also it has a really wide set of tools to make\n",
    "operations eficiently and with less code.\n",
    "\n",
    "Also, most of Python's libraries are based on Numpy, for example: Pandas."
   ]
  },
  {
   "cell_type": "code",
   "execution_count": 1,
   "id": "e102afa7",
   "metadata": {},
   "outputs": [
    {
     "name": "stdout",
     "output_type": "stream",
     "text": [
      "<class 'numpy.ndarray'>\n"
     ]
    }
   ],
   "source": [
    "# You use the alias \"np\" to name the library\n",
    "import numpy as np\n",
    "\"\"\"\n",
    "We create a \"np\" array of range 1 (one dimension) with the method \"array()\",\n",
    "the numbers between square brackets are rows from the array and each number separated\n",
    "with commas are the columns.\n",
    "\"\"\"\n",
    "an_array = np.array([7, 77, 777])\n",
    "# This variable is a type \"numpy.ndarray\", n (number) of \"d\" (dimensions) of this array.\n",
    "print(type(an_array))"
   ]
  },
  {
   "cell_type": "code",
   "execution_count": 2,
   "id": "e2e30a61",
   "metadata": {},
   "outputs": [
    {
     "name": "stdout",
     "output_type": "stream",
     "text": [
      "<class 'tuple'>\n",
      "(3,)\n",
      "Shape of the array: (2, 3)\n",
      "[[1 2 3]\n",
      " [4 5 6]]\n"
     ]
    }
   ],
   "source": [
    "# We search what's the data type of the array's shape object and then we print the shape of the array.\n",
    "print (type(an_array.shape))\n",
    "# Since it's only 1 dimension you will only see a number meaning how many columns it has.\n",
    "print(an_array.shape)\n",
    "# Now this is how you create a two dimensions array, and each dimension should have the same lenght.\n",
    "a_two_dimension_array = np.array([[1, 2, 3], [4, 5, 6]])\n",
    "print(\"Shape of the array:\", a_two_dimension_array.shape)\n",
    "print(a_two_dimension_array)"
   ]
  },
  {
   "cell_type": "code",
   "execution_count": 3,
   "id": "7adf2918",
   "metadata": {},
   "outputs": [
    {
     "name": "stdout",
     "output_type": "stream",
     "text": [
      "7\n",
      "77\n",
      "777\n",
      "200\n"
     ]
    }
   ],
   "source": [
    "# How to access those variables\n",
    "print(an_array[0])\n",
    "print(an_array[1])\n",
    "print(an_array[2])\n",
    "an_array[2] = 200\n",
    "print(an_array[2])"
   ]
  },
  {
   "cell_type": "markdown",
   "id": "60ac2669",
   "metadata": {},
   "source": [
    "# How to create a multidimensional array"
   ]
  },
  {
   "cell_type": "code",
   "execution_count": 4,
   "id": "2ee2175a",
   "metadata": {},
   "outputs": [
    {
     "name": "stdout",
     "output_type": "stream",
     "text": [
      "Shape of this array is: (3, 3)\n"
     ]
    }
   ],
   "source": [
    "multidimensional_array = np.array([[11, 12, 13], [22, 23, 24], [35, 36, 37]])\n",
    "print(\"Shape of this array is:\",multidimensional_array.shape)"
   ]
  },
  {
   "cell_type": "code",
   "execution_count": 5,
   "id": "1d166140",
   "metadata": {},
   "outputs": [
    {
     "name": "stdout",
     "output_type": "stream",
     "text": [
      "This is how I access a value of this two-dimension array: 35\n",
      "This is how I print the full array\n",
      "[[11 12 13]\n",
      " [22 23 24]\n",
      " [35 36 37]]\n"
     ]
    }
   ],
   "source": [
    "print(\"This is how I access a value of this two-dimension array:\",multidimensional_array[2, 0])\n",
    "print(\"This is how I print the full array\")\n",
    "print(multidimensional_array)"
   ]
  },
  {
   "cell_type": "markdown",
   "id": "bedd02cc",
   "metadata": {},
   "source": [
    "$ I^{3 \\times 3} =\n",
    "\\left( \\begin{array}{cccc}\n",
    " 11 & 12 & 13 \\\\\n",
    " 22 & 23 & 24 \\\\\n",
    " 35 & 36 & 37 \\\\\n",
    "\\end{array} \\right) $"
   ]
  },
  {
   "cell_type": "markdown",
   "id": "ac9928fd",
   "metadata": {},
   "source": [
    "# Multiple ways of creating nd arrays"
   ]
  },
  {
   "cell_type": "code",
   "execution_count": 6,
   "id": "553171c0",
   "metadata": {},
   "outputs": [
    {
     "name": "stdout",
     "output_type": "stream",
     "text": [
      "[[0. 0. 0. ... 0. 0. 0.]\n",
      " [0. 0. 0. ... 0. 0. 0.]\n",
      " [0. 0. 0. ... 0. 0. 0.]\n",
      " ...\n",
      " [0. 0. 0. ... 0. 0. 0.]\n",
      " [0. 0. 0. ... 0. 0. 0.]\n",
      " [0. 0. 0. ... 0. 0. 0.]]\n",
      "[[[0. 0. 0. 0. 0.]\n",
      "  [0. 0. 0. 0. 0.]\n",
      "  [0. 0. 0. 0. 0.]\n",
      "  ...\n",
      "  [0. 0. 0. 0. 0.]\n",
      "  [0. 0. 0. 0. 0.]\n",
      "  [0. 0. 0. 0. 0.]]\n",
      "\n",
      " [[0. 0. 0. 0. 0.]\n",
      "  [0. 0. 0. 0. 0.]\n",
      "  [0. 0. 0. 0. 0.]\n",
      "  ...\n",
      "  [0. 0. 0. 0. 0.]\n",
      "  [0. 0. 0. 0. 0.]\n",
      "  [0. 0. 0. 0. 0.]]\n",
      "\n",
      " [[0. 0. 0. 0. 0.]\n",
      "  [0. 0. 0. 0. 0.]\n",
      "  [0. 0. 0. 0. 0.]\n",
      "  ...\n",
      "  [0. 0. 0. 0. 0.]\n",
      "  [0. 0. 0. 0. 0.]\n",
      "  [0. 0. 0. 0. 0.]]\n",
      "\n",
      " ...\n",
      "\n",
      " [[0. 0. 0. 0. 0.]\n",
      "  [0. 0. 0. 0. 0.]\n",
      "  [0. 0. 0. 0. 0.]\n",
      "  ...\n",
      "  [0. 0. 0. 0. 0.]\n",
      "  [0. 0. 0. 0. 0.]\n",
      "  [0. 0. 0. 0. 0.]]\n",
      "\n",
      " [[0. 0. 0. 0. 0.]\n",
      "  [0. 0. 0. 0. 0.]\n",
      "  [0. 0. 0. 0. 0.]\n",
      "  ...\n",
      "  [0. 0. 0. 0. 0.]\n",
      "  [0. 0. 0. 0. 0.]\n",
      "  [0. 0. 0. 0. 0.]]\n",
      "\n",
      " [[0. 0. 0. 0. 0.]\n",
      "  [0. 0. 0. 0. 0.]\n",
      "  [0. 0. 0. 0. 0.]\n",
      "  ...\n",
      "  [0. 0. 0. 0. 0.]\n",
      "  [0. 0. 0. 0. 0.]\n",
      "  [0. 0. 0. 0. 0.]]]\n"
     ]
    }
   ],
   "source": [
    "#How to create a full-zero array, with the method \"zeros()\"\n",
    "i1 = np.zeros((1080, 1920))\n",
    "print(i1)\n",
    "# How can we add a dimension color? With another dimension with colours (red, green, blue, alpha, ultraviolet)\n",
    "i1 = np.zeros((1080, 1920, 5))\n",
    "print (i1)"
   ]
  },
  {
   "cell_type": "code",
   "execution_count": 7,
   "id": "e2293b31",
   "metadata": {},
   "outputs": [
    {
     "name": "stdout",
     "output_type": "stream",
     "text": [
      "[[9.1 9.1]\n",
      " [9.1 9.1]]\n"
     ]
    }
   ],
   "source": [
    "\"\"\"\n",
    "This method will fill all the numbers from an array with the method \"full()\"; first\n",
    "argument means the dimensions of the array and the second the number you want to fill in in each position\n",
    "\"\"\"\n",
    "i2 = np.full((2,2), 9.1)\n",
    "print(i2)"
   ]
  },
  {
   "cell_type": "code",
   "execution_count": 8,
   "id": "2b0ab76b",
   "metadata": {},
   "outputs": [
    {
     "name": "stdout",
     "output_type": "stream",
     "text": [
      "[[1. 0. 0. 0. 0. 0. 0.]\n",
      " [0. 1. 0. 0. 0. 0. 0.]\n",
      " [0. 0. 1. 0. 0. 0. 0.]\n",
      " [0. 0. 0. 1. 0. 0. 0.]\n",
      " [0. 0. 0. 0. 1. 0. 0.]\n",
      " [0. 0. 0. 0. 0. 1. 0.]\n",
      " [0. 0. 0. 0. 0. 0. 1.]]\n"
     ]
    }
   ],
   "source": [
    "# The method \"eye()\" creates an identity matrix\n",
    "i3 = np.eye(7,7)\n",
    "print(i3)"
   ]
  },
  {
   "cell_type": "code",
   "execution_count": 9,
   "id": "f81660e6",
   "metadata": {},
   "outputs": [
    {
     "name": "stdout",
     "output_type": "stream",
     "text": [
      "[[[1. 1.]\n",
      "  [1. 1.]\n",
      "  [1. 1.]\n",
      "  [1. 1.]\n",
      "  [1. 1.]\n",
      "  [1. 1.]\n",
      "  [1. 1.]]\n",
      "\n",
      " [[1. 1.]\n",
      "  [1. 1.]\n",
      "  [1. 1.]\n",
      "  [1. 1.]\n",
      "  [1. 1.]\n",
      "  [1. 1.]\n",
      "  [1. 1.]]\n",
      "\n",
      " [[1. 1.]\n",
      "  [1. 1.]\n",
      "  [1. 1.]\n",
      "  [1. 1.]\n",
      "  [1. 1.]\n",
      "  [1. 1.]\n",
      "  [1. 1.]]\n",
      "\n",
      " [[1. 1.]\n",
      "  [1. 1.]\n",
      "  [1. 1.]\n",
      "  [1. 1.]\n",
      "  [1. 1.]\n",
      "  [1. 1.]\n",
      "  [1. 1.]]\n",
      "\n",
      " [[1. 1.]\n",
      "  [1. 1.]\n",
      "  [1. 1.]\n",
      "  [1. 1.]\n",
      "  [1. 1.]\n",
      "  [1. 1.]\n",
      "  [1. 1.]]\n",
      "\n",
      " [[1. 1.]\n",
      "  [1. 1.]\n",
      "  [1. 1.]\n",
      "  [1. 1.]\n",
      "  [1. 1.]\n",
      "  [1. 1.]\n",
      "  [1. 1.]]\n",
      "\n",
      " [[1. 1.]\n",
      "  [1. 1.]\n",
      "  [1. 1.]\n",
      "  [1. 1.]\n",
      "  [1. 1.]\n",
      "  [1. 1.]\n",
      "  [1. 1.]]\n",
      "\n",
      " [[1. 1.]\n",
      "  [1. 1.]\n",
      "  [1. 1.]\n",
      "  [1. 1.]\n",
      "  [1. 1.]\n",
      "  [1. 1.]\n",
      "  [1. 1.]]\n",
      "\n",
      " [[1. 1.]\n",
      "  [1. 1.]\n",
      "  [1. 1.]\n",
      "  [1. 1.]\n",
      "  [1. 1.]\n",
      "  [1. 1.]\n",
      "  [1. 1.]]\n",
      "\n",
      " [[1. 1.]\n",
      "  [1. 1.]\n",
      "  [1. 1.]\n",
      "  [1. 1.]\n",
      "  [1. 1.]\n",
      "  [1. 1.]\n",
      "  [1. 1.]]]\n"
     ]
    }
   ],
   "source": [
    "# This method creates an array full of ones\n",
    "i4 = np.ones((10,7,2))\n",
    "print (i4)"
   ]
  },
  {
   "cell_type": "code",
   "execution_count": 10,
   "id": "8feb671a",
   "metadata": {},
   "outputs": [
    {
     "name": "stdout",
     "output_type": "stream",
     "text": [
      "[[0.82539109 0.29124046 0.86896133 0.50633921 0.28544349]\n",
      " [0.08476579 0.33007351 0.51807201 0.38816061 0.04567514]\n",
      " [0.18234757 0.45737601 0.54162419 0.28621375 0.28030993]\n",
      " [0.37890645 0.97797965 0.56779497 0.07695961 0.16208921]\n",
      " [0.48542643 0.73219144 0.02494867 0.83697202 0.14733776]]\n"
     ]
    }
   ],
   "source": [
    "\"\"\"\n",
    "We can also create an array full of random floats between 0 and 1; we're using the method\n",
    "inside numpy's class \"random\" called also \"random()\".\n",
    "\"\"\"\n",
    "i5 = np.random.random((5,5))\n",
    "print(i5)"
   ]
  },
  {
   "cell_type": "markdown",
   "id": "b149dc8d",
   "metadata": {},
   "source": [
    "# Array with indexes\n",
    "Sometimes preparing a series of indexes in an array is useful to utilize them to operate other arrays"
   ]
  },
  {
   "cell_type": "code",
   "execution_count": 11,
   "id": "d919ffb3",
   "metadata": {},
   "outputs": [
    {
     "name": "stdout",
     "output_type": "stream",
     "text": [
      "[[11 12 13]\n",
      " [21 22 23]\n",
      " [31 32 33]\n",
      " [41 42 43]]\n",
      "(4, 3)\n"
     ]
    }
   ],
   "source": [
    "#Let's create a new two-dimensional array\n",
    "array_a = np.array([[11, 12, 13], [21, 22, 23], [31, 32, 33], [41, 42, 43]])\n",
    "print(array_a)\n",
    "print(array_a.shape)"
   ]
  },
  {
   "cell_type": "code",
   "execution_count": 12,
   "id": "6088ed98",
   "metadata": {},
   "outputs": [
    {
     "name": "stdout",
     "output_type": "stream",
     "text": [
      "We choose this indexes for rows: [0 1 2 3]\n",
      "We choose this indexes for columns: [0 1 2 0]\n"
     ]
    }
   ],
   "source": [
    "# Let's create 2 arrays with integer numbers that we'll use as indexes\n",
    "columns = np.array([0, 1, 2, 0])\n",
    "# The method \"arange()\" generates a consecutive sequence of numbers from 0 to n-1 (in this example, 3)\n",
    "rows = np.arange(4)\n",
    "print(\"We choose this indexes for rows:\",rows)\n",
    "print(\"We choose this indexes for columns:\",columns)"
   ]
  },
  {
   "cell_type": "code",
   "execution_count": 13,
   "id": "25e2b295",
   "metadata": {},
   "outputs": [
    {
     "name": "stdout",
     "output_type": "stream",
     "text": [
      "( 0 , 0 )\n",
      "( 1 , 1 )\n",
      "( 2 , 2 )\n",
      "( 3 , 0 )\n"
     ]
    }
   ],
   "source": [
    "# We can print the indexes by columns from both arrays\n",
    "for row,col in zip(rows,columns):\n",
    "    print(\"(\",row,\",\",col,\")\")"
   ]
  },
  {
   "cell_type": "code",
   "execution_count": 14,
   "id": "10de7408",
   "metadata": {},
   "outputs": [
    {
     "name": "stdout",
     "output_type": "stream",
     "text": [
      "The values contained in the indexes are: [11 22 33 41]\n"
     ]
    }
   ],
   "source": [
    "# So now to choose an element from a row we'll do it this way\n",
    "print(\"The values contained in the indexes are:\",array_a[rows, columns])"
   ]
  },
  {
   "cell_type": "code",
   "execution_count": 15,
   "id": "188ab18e",
   "metadata": {},
   "outputs": [
    {
     "name": "stdout",
     "output_type": "stream",
     "text": [
      "[[11 12 13]\n",
      " [21 22 23]\n",
      " [31 32 33]\n",
      " [41 42 43]]\n",
      "\n",
      "New array:\n",
      "\n",
      "[[1011   12   13]\n",
      " [  21 1022   23]\n",
      " [  31   32 1033]\n",
      " [1041   42   43]]\n"
     ]
    }
   ],
   "source": [
    "# Let's operate with the selected values\n",
    "print(array_a)\n",
    "array_a[rows, columns] += 1000\n",
    "print(\"\\nNew array:\\n\")\n",
    "print(array_a)"
   ]
  },
  {
   "cell_type": "markdown",
   "id": "ab833c5f",
   "metadata": {},
   "source": [
    "# Indexed boolean\n",
    "Indexed boolean to chage elements"
   ]
  },
  {
   "cell_type": "code",
   "execution_count": 16,
   "id": "a30e4d30",
   "metadata": {},
   "outputs": [
    {
     "name": "stdout",
     "output_type": "stream",
     "text": [
      "[[11 12]\n",
      " [21 22]\n",
      " [31 32]]\n",
      "_________\n",
      "(3, 2)\n"
     ]
    }
   ],
   "source": [
    "# We'll create an array of 3x2 dimensions\n",
    "array_b = np.array([[11,12], [21,22], [31, 32]])\n",
    "print(array_b)\n",
    "print(\"_________\")\n",
    "print(array_b.shape)"
   ]
  },
  {
   "cell_type": "code",
   "execution_count": 17,
   "id": "2ee04f55",
   "metadata": {},
   "outputs": [
    {
     "name": "stdout",
     "output_type": "stream",
     "text": [
      "[[False False]\n",
      " [ True  True]\n",
      " [ True  True]]\n",
      "[21 22 31 32]\n"
     ]
    }
   ],
   "source": [
    "# Creating a filter is really easy with Numpy\n",
    "filter = (array_b > 15)\n",
    "print(filter)\n",
    "# Then we can have a new array with the filtered numbers\n",
    "filtered = array_b[filter]\n",
    "print(filtered)"
   ]
  },
  {
   "cell_type": "code",
   "execution_count": 18,
   "id": "f11a4ebf",
   "metadata": {},
   "outputs": [
    {
     "name": "stdout",
     "output_type": "stream",
     "text": [
      "[12 22 32]\n"
     ]
    }
   ],
   "source": [
    "# This way you don't have to create the filter first and then apply it, we can do it in the same line of code\n",
    "print(array_b[(array_b % 2 == 0)])"
   ]
  },
  {
   "cell_type": "markdown",
   "id": "d2974f74",
   "metadata": {},
   "source": [
    "##### The principal use of this type of filters is to modify the values inside of the array that meet certain criteria"
   ]
  },
  {
   "cell_type": "code",
   "execution_count": 19,
   "id": "659e16b9",
   "metadata": {},
   "outputs": [
    {
     "name": "stdout",
     "output_type": "stream",
     "text": [
      "Full array:\n",
      " [[11 12]\n",
      " [21 22]\n",
      " [31 32]]\n",
      "\n",
      "Filtered array:\n",
      " [12 22 32]\n",
      "\n",
      "Array after changing only the filtered values:\n",
      " [[  11 1012]\n",
      " [  21 1022]\n",
      " [  31 1032]]\n"
     ]
    }
   ],
   "source": [
    "print(\"Full array:\\n\",array_b)\n",
    "print(\"\\nFiltered array:\\n\", array_b[array_b % 2 == 0])\n",
    "array_b[array_b % 2 == 0] += 1000\n",
    "print(\"\\nArray after changing only the filtered values:\\n\",array_b)"
   ]
  },
  {
   "cell_type": "markdown",
   "id": "69ddea80",
   "metadata": {},
   "source": [
    "# Slicing arrays\n",
    "To slice an array is useful to isolate a \"subregion\" of the array to a ndarray"
   ]
  },
  {
   "cell_type": "code",
   "execution_count": 20,
   "id": "bcd3c7e7",
   "metadata": {},
   "outputs": [
    {
     "name": "stdout",
     "output_type": "stream",
     "text": [
      "[[11 12 13 14 15 16]\n",
      " [21 22 23 24 25 26]\n",
      " [31 32 33 34 35 36]\n",
      " [41 42 43 44 45 46]]\n",
      "\n",
      "Array sliced:\n",
      " [[12 13]\n",
      " [22 23]]\n"
     ]
    }
   ],
   "source": [
    "# We create a normal array first\n",
    "to_slice_array = np.array([[11,12,13,14,15,16], [21,22,23,24,25,26], [31,32,33,34,35,36], [41,42,43,44,45,46]])\n",
    "print(to_slice_array)\n",
    "#Then we'll slice it into a 2x2 array; first position are rows and second one are columns, last number isn't included\n",
    "a_slice = to_slice_array[:2, 1:3]\n",
    "print(\"\\nArray sliced:\\n\",a_slice)"
   ]
  },
  {
   "cell_type": "code",
   "execution_count": 21,
   "id": "3d462bf7",
   "metadata": {},
   "outputs": [
    {
     "name": "stdout",
     "output_type": "stream",
     "text": [
      "Slice: 12\n"
     ]
    }
   ],
   "source": [
    "# Let's print the value in row 0 column 0 of the slice; the output will generate a new index\n",
    "print(\"Slice:\",a_slice[0,0])\n",
    "# Why 12?, it's because we already sliced this array before, so the first position changed to the number 12."
   ]
  },
  {
   "cell_type": "code",
   "execution_count": 22,
   "id": "f52ec682",
   "metadata": {},
   "outputs": [
    {
     "name": "stdout",
     "output_type": "stream",
     "text": [
      "Slice: 112\n"
     ]
    }
   ],
   "source": [
    "a_slice[0,0] += 100\n",
    "print(\"Slice:\", a_slice[0,0])"
   ]
  },
  {
   "cell_type": "code",
   "execution_count": 23,
   "id": "8c1718ec",
   "metadata": {},
   "outputs": [
    {
     "name": "stdout",
     "output_type": "stream",
     "text": [
      "Original array: 112\n"
     ]
    }
   ],
   "source": [
    "# Why did the slice value affect the original array? It's because slices are pointers; it isn't a new array\n",
    "print(\"Original array:\", to_slice_array[0,1])"
   ]
  },
  {
   "cell_type": "code",
   "execution_count": 24,
   "id": "d1103bfe",
   "metadata": {},
   "outputs": [
    {
     "name": "stdout",
     "output_type": "stream",
     "text": [
      "[[ 11 112  13  14  15  16]\n",
      " [ 21  22  23  24  25  26]\n",
      " [ 31  32  33  34  35  36]\n",
      " [ 41  42  43  44  45  46]]\n"
     ]
    },
    {
     "data": {
      "text/plain": [
       "numpy.ndarray"
      ]
     },
     "execution_count": 24,
     "metadata": {},
     "output_type": "execute_result"
    }
   ],
   "source": [
    "# We confirm here that a slice is no more than a pointer/shortcut of the original array.\n",
    "print(to_slice_array)\n",
    "type(a_slice)"
   ]
  },
  {
   "cell_type": "markdown",
   "id": "94309339",
   "metadata": {},
   "source": [
    "##### Sooo, what if we want a new array from a slice?"
   ]
  },
  {
   "cell_type": "code",
   "execution_count": 25,
   "id": "3763bef4",
   "metadata": {},
   "outputs": [
    {
     "name": "stdout",
     "output_type": "stream",
     "text": [
      "[[112  13]\n",
      " [ 22  23]]\n"
     ]
    }
   ],
   "source": [
    "new_array = np.array(a_slice)\n",
    "print(new_array)"
   ]
  },
  {
   "cell_type": "code",
   "execution_count": 26,
   "id": "56e20d9a",
   "metadata": {},
   "outputs": [
    {
     "name": "stdout",
     "output_type": "stream",
     "text": [
      "[112  22  32  42] (4,)\n"
     ]
    }
   ],
   "source": [
    "row_rank1 = to_slice_array[:, 1]\n",
    "print(row_rank1, row_rank1.shape)"
   ]
  },
  {
   "cell_type": "markdown",
   "id": "c249ffd6",
   "metadata": {},
   "source": [
    "# Data types of arrays in numpy"
   ]
  },
  {
   "cell_type": "code",
   "execution_count": 27,
   "id": "eeb0e9c2",
   "metadata": {},
   "outputs": [
    {
     "name": "stdout",
     "output_type": "stream",
     "text": [
      "int32\n"
     ]
    }
   ],
   "source": [
    "# In this case Python assigns the data type of the structure by himself\n",
    "ex1 = np.array([11, 12])\n",
    "print(ex1.dtype)"
   ]
  },
  {
   "cell_type": "code",
   "execution_count": 28,
   "id": "2759895f",
   "metadata": {},
   "outputs": [
    {
     "name": "stdout",
     "output_type": "stream",
     "text": [
      "float64\n"
     ]
    }
   ],
   "source": [
    "# Python assigns the data type\n",
    "ex2 = np.array([11.0, 12.0])\n",
    "print(ex2.dtype)"
   ]
  },
  {
   "cell_type": "code",
   "execution_count": 29,
   "id": "2ab494ef",
   "metadata": {},
   "outputs": [
    {
     "name": "stdout",
     "output_type": "stream",
     "text": [
      "float64\n",
      "int64\n",
      "\n",
      " [11 12]\n"
     ]
    }
   ],
   "source": [
    "# We can also force the data type implicitly like this (from integer to float and viceversa)\n",
    "ex3 = np.array([11, 12], dtype=np.float64)\n",
    "print(ex3.dtype)\n",
    "ex4 = np.array([11.1, 12.7], dtype=np.int64)\n",
    "print(ex4.dtype)\n",
    "print(\"\\n\",ex4)"
   ]
  },
  {
   "cell_type": "markdown",
   "id": "d35e347a",
   "metadata": {},
   "source": [
    "# Arithmetic operations"
   ]
  },
  {
   "cell_type": "code",
   "execution_count": 30,
   "id": "ef2c7b03",
   "metadata": {},
   "outputs": [
    {
     "name": "stdout",
     "output_type": "stream",
     "text": [
      "[[111 112]\n",
      " [121 122]]\n",
      "\n",
      " [[211.1 212.1]\n",
      " [221.1 222.1]]\n"
     ]
    }
   ],
   "source": [
    "x = np.array([[111, 112],[121,122]], dtype=np.int64)\n",
    "y = np.array([[211.1, 212.1],[221.1,222.1]], dtype=np.float64)\n",
    "\n",
    "print(x)\n",
    "print(\"\\n\",y)"
   ]
  },
  {
   "cell_type": "code",
   "execution_count": 31,
   "id": "e6676de4",
   "metadata": {},
   "outputs": [
    {
     "name": "stdout",
     "output_type": "stream",
     "text": [
      "[[-100.1 -100.1]\n",
      " [-100.1 -100.1]]\n",
      "\n",
      " [[-100.1 -100.1]\n",
      " [-100.1 -100.1]]\n"
     ]
    }
   ],
   "source": [
    "# Subtraction (both ways)\n",
    "print(x - y)\n",
    "print(\"\\n\",np.subtract(x, y))"
   ]
  },
  {
   "cell_type": "code",
   "execution_count": 32,
   "id": "049517e6",
   "metadata": {},
   "outputs": [
    {
     "name": "stdout",
     "output_type": "stream",
     "text": [
      "[[23432.1 23755.2]\n",
      " [26753.1 27096.2]]\n",
      "\n",
      " [[23432.1 23755.2]\n",
      " [26753.1 27096.2]]\n"
     ]
    }
   ],
   "source": [
    "# Multiplication (both ways)\n",
    "print(x * y)\n",
    "print(\"\\n\", np.multiply(x, y))"
   ]
  },
  {
   "cell_type": "code",
   "execution_count": 33,
   "id": "536c9b3d",
   "metadata": {},
   "outputs": [
    {
     "name": "stdout",
     "output_type": "stream",
     "text": [
      "[[0.52581715 0.52805281]\n",
      " [0.54726368 0.54930212]]\n",
      "\n",
      " [[0.52581715 0.52805281]\n",
      " [0.54726368 0.54930212]]\n"
     ]
    }
   ],
   "source": [
    "# Division (both ways)\n",
    "print(x / y)\n",
    "print(\"\\n\",np.divide(x, y))"
   ]
  },
  {
   "cell_type": "code",
   "execution_count": 34,
   "id": "3fb2ed1e",
   "metadata": {},
   "outputs": [
    {
     "name": "stdout",
     "output_type": "stream",
     "text": [
      "[[10.53565375 10.58300524]\n",
      " [11.         11.04536102]]\n"
     ]
    }
   ],
   "source": [
    "# Square root\n",
    "print(np.sqrt(x))"
   ]
  },
  {
   "cell_type": "markdown",
   "id": "62fa8ac4",
   "metadata": {},
   "source": [
    "\n",
    "# Statistical basic operations"
   ]
  },
  {
   "cell_type": "code",
   "execution_count": 35,
   "id": "dc1821ca",
   "metadata": {},
   "outputs": [
    {
     "name": "stdout",
     "output_type": "stream",
     "text": [
      "[[-6.86604721 18.56786842  2.54175981  1.75907959 -8.86559498]\n",
      " [-7.35380304  7.17614846  0.16527285 -7.50482929  9.45115438]]\n"
     ]
    }
   ],
   "source": [
    "# Generate a random array\n",
    "arr = 10 * np.random.randn(2,5)\n",
    "print(arr)"
   ]
  },
  {
   "cell_type": "code",
   "execution_count": 36,
   "id": "b137d112",
   "metadata": {},
   "outputs": [
    {
     "name": "stdout",
     "output_type": "stream",
     "text": [
      "0.9071008980582806\n"
     ]
    }
   ],
   "source": [
    "# This method (\"mean()\") calculates the mean of all the array\n",
    "print(arr.mean())"
   ]
  },
  {
   "cell_type": "code",
   "execution_count": 37,
   "id": "0068e5c3",
   "metadata": {},
   "outputs": [
    {
     "name": "stdout",
     "output_type": "stream",
     "text": [
      "[1.42741313 0.38678867]\n"
     ]
    }
   ],
   "source": [
    "\"\"\"\n",
    "You can pass as a parameter the axis to this method\n",
    "Axis 0 for columns\n",
    "Axis 1 for rows\n",
    "Since there are 2 rows, we'll get two means in this case as printed\n",
    "\"\"\"\n",
    "print(arr.mean(axis = 1))"
   ]
  },
  {
   "cell_type": "code",
   "execution_count": 38,
   "id": "d10e9bc4",
   "metadata": {},
   "outputs": [
    {
     "name": "stdout",
     "output_type": "stream",
     "text": [
      "[-7.10992513 12.87200844  1.35351633 -2.87287485  0.2927797 ]\n"
     ]
    }
   ],
   "source": [
    "# Calculate the mean but row by row (there are 5 rows)\n",
    "print(arr.mean(axis = 0))"
   ]
  },
  {
   "cell_type": "code",
   "execution_count": 39,
   "id": "6bda30d7",
   "metadata": {},
   "outputs": [
    {
     "name": "stdout",
     "output_type": "stream",
     "text": [
      "[-1.81187099 -1.1646262   0.66220732 -0.22526184 -0.61527068 -0.7166093\n",
      " -0.16886451  0.41213395  1.09291874  1.7093875 ]\n"
     ]
    }
   ],
   "source": [
    "# We'll create an array of 10 random elements\n",
    "unordered = np.random.randn(10)\n",
    "print(unordered)"
   ]
  },
  {
   "cell_type": "code",
   "execution_count": 40,
   "id": "75d4a9c1",
   "metadata": {},
   "outputs": [
    {
     "name": "stdout",
     "output_type": "stream",
     "text": [
      "[-1.81187099 -1.1646262  -0.7166093  -0.61527068 -0.22526184 -0.16886451\n",
      "  0.41213395  0.66220732  1.09291874  1.7093875 ]\n"
     ]
    }
   ],
   "source": [
    "# Let's copy it\n",
    "ordered = np.array(unordered)\n",
    "\n",
    "# And we'll order it by asc\n",
    "ordered.sort()\n",
    "print(ordered)"
   ]
  },
  {
   "cell_type": "code",
   "execution_count": 41,
   "id": "ab1bf149",
   "metadata": {},
   "outputs": [
    {
     "name": "stdout",
     "output_type": "stream",
     "text": [
      "[1 2 3 4 5 6]\n"
     ]
    }
   ],
   "source": [
    "# We can also look for unique elements inside the array; it's good to have a general view of what's inside of an array\n",
    "array = np.array([1,2,1,4,3,4,6,2,5])\n",
    "print(np.unique(array))"
   ]
  },
  {
   "cell_type": "code",
   "execution_count": 42,
   "id": "d39e157b",
   "metadata": {},
   "outputs": [
    {
     "name": "stdout",
     "output_type": "stream",
     "text": [
      "['desktop' 'chair' 'table']\n",
      "['desktop' 'chair' 'lamp']\n"
     ]
    }
   ],
   "source": [
    "# SET OPERATIONS\n",
    "s1 = np.array([\"desktop\",\"chair\",\"table\"])\n",
    "s2 = np.array([\"desktop\",\"chair\",\"lamp\"])\n",
    "print(s1)\n",
    "print(s2)"
   ]
  },
  {
   "cell_type": "code",
   "execution_count": 43,
   "id": "59453d3d",
   "metadata": {},
   "outputs": [
    {
     "name": "stdout",
     "output_type": "stream",
     "text": [
      "['chair' 'desktop']\n"
     ]
    }
   ],
   "source": [
    "# Intersection (common elements between both sets) with method \"intersect1d()\"\n",
    "print(np.intersect1d(s1, s2))"
   ]
  },
  {
   "cell_type": "code",
   "execution_count": 44,
   "id": "83371182",
   "metadata": {},
   "outputs": [
    {
     "name": "stdout",
     "output_type": "stream",
     "text": [
      "['chair' 'desktop' 'lamp' 'table']\n"
     ]
    }
   ],
   "source": [
    "# Union in 1d, you won't get more than one sample of each element\n",
    "print(np.union1d(s1, s2))"
   ]
  },
  {
   "cell_type": "code",
   "execution_count": 45,
   "id": "37675954",
   "metadata": {},
   "outputs": [
    {
     "name": "stdout",
     "output_type": "stream",
     "text": [
      "['table']\n"
     ]
    }
   ],
   "source": [
    "# Difference, elements of s1 that aren't in s2 with the method \"setdiff1d()\"\n",
    "print(np.setdiff1d(s1, s2))"
   ]
  },
  {
   "cell_type": "code",
   "execution_count": 46,
   "id": "9a4a4638",
   "metadata": {},
   "outputs": [
    {
     "name": "stdout",
     "output_type": "stream",
     "text": [
      "[ True  True False]\n"
     ]
    }
   ],
   "source": [
    "# Which elements of s1 are in s2 with method \"in1d()\", it will return a boolean array\n",
    "print(np.in1d(s1, s2))"
   ]
  },
  {
   "cell_type": "markdown",
   "id": "542c5e7e",
   "metadata": {},
   "source": [
    "# Some frequent operations"
   ]
  },
  {
   "cell_type": "code",
   "execution_count": 47,
   "id": "b020f9e5",
   "metadata": {},
   "outputs": [
    {
     "name": "stdout",
     "output_type": "stream",
     "text": [
      "66\n"
     ]
    }
   ],
   "source": [
    "# We sum every element of the arrays\n",
    "ex1 = np.array([[11,12], [21,22]])\n",
    "print(np.sum(ex1))"
   ]
  },
  {
   "cell_type": "code",
   "execution_count": 48,
   "id": "42acff34",
   "metadata": {},
   "outputs": [
    {
     "name": "stdout",
     "output_type": "stream",
     "text": [
      "[32 34]\n",
      "[23 43]\n"
     ]
    }
   ],
   "source": [
    "# This way we can sum the columns (axis = 0)\n",
    "print(np.sum(ex1, axis = 0))\n",
    "# How do we sum the rows? with axis = 1\n",
    "print(np.sum(ex1, axis = 1))"
   ]
  },
  {
   "cell_type": "markdown",
   "id": "b016ca2c",
   "metadata": {},
   "source": [
    "#### How do we format an array (IMPORTANT)"
   ]
  },
  {
   "cell_type": "code",
   "execution_count": 49,
   "id": "d801852b",
   "metadata": {},
   "outputs": [
    {
     "name": "stdout",
     "output_type": "stream",
     "text": [
      "[ 0  1  2  3  4  5  6  7  8  9 10 11 12 13 14 15 16 17 18 19]\n"
     ]
    },
    {
     "data": {
      "text/plain": [
       "(20,)"
      ]
     },
     "execution_count": 49,
     "metadata": {},
     "output_type": "execute_result"
    }
   ],
   "source": [
    "# Let's create a onedimensional array\n",
    "arr = np.arange(20)\n",
    "print(arr)\n",
    "arr.shape"
   ]
  },
  {
   "cell_type": "code",
   "execution_count": 50,
   "id": "1f30df6d",
   "metadata": {},
   "outputs": [
    {
     "name": "stdout",
     "output_type": "stream",
     "text": [
      "[[ 0  1  2  3  4]\n",
      " [ 5  6  7  8  9]\n",
      " [10 11 12 13 14]\n",
      " [15 16 17 18 19]]\n"
     ]
    }
   ],
   "source": [
    "# Now let's change it shape, using the method \"reshape()\" and passing row as 1st argument and column as 2nd.\n",
    "reshped_arr = arr.reshape(4,5)\n",
    "print(reshped_arr)"
   ]
  },
  {
   "cell_type": "code",
   "execution_count": 51,
   "id": "bd75d53b",
   "metadata": {},
   "outputs": [
    {
     "name": "stdout",
     "output_type": "stream",
     "text": [
      "[[11 12]\n",
      " [21 22]]\n"
     ]
    },
    {
     "data": {
      "text/plain": [
       "array([[11, 21],\n",
       "       [12, 22]])"
      ]
     },
     "execution_count": 51,
     "metadata": {},
     "output_type": "execute_result"
    }
   ],
   "source": [
    "# We can also transpose an array this way\n",
    "ex1 = np.array([[11,12], [21,22]])\n",
    "print(ex1)\n",
    "ex1.T"
   ]
  },
  {
   "cell_type": "code",
   "execution_count": 52,
   "id": "bf3a07fd",
   "metadata": {},
   "outputs": [
    {
     "data": {
      "text/plain": [
       "array([[0.10075992, 0.00244835, 0.59844939, 0.68518525],\n",
       "       [0.70520163, 0.3730094 , 0.26533947, 0.60004912],\n",
       "       [0.58524006, 0.10507588, 0.52099084, 0.03367376],\n",
       "       [0.07839485, 0.32622327, 0.71967786, 0.45084697]])"
      ]
     },
     "execution_count": 52,
     "metadata": {},
     "output_type": "execute_result"
    }
   ],
   "source": [
    "# WHERE is really useful\n",
    "mat = np.random.rand(4,4)\n",
    "mat"
   ]
  },
  {
   "cell_type": "code",
   "execution_count": 53,
   "id": "6afcf01b",
   "metadata": {},
   "outputs": [
    {
     "data": {
      "text/plain": [
       "array([[  -1,   -1, 1000, 1000],\n",
       "       [1000,   -1,   -1, 1000],\n",
       "       [1000,   -1, 1000,   -1],\n",
       "       [  -1,   -1, 1000,   -1]])"
      ]
     },
     "execution_count": 53,
     "metadata": {},
     "output_type": "execute_result"
    }
   ],
   "source": [
    "\"\"\"\n",
    "With the method \"where()\" you can pass an array with a conditional expression, where the expression\n",
    "returns True it replaces it with the 2nd argument (1000) and where it returns False it changes it to\n",
    "the 3rd argument (-1).\n",
    "\"\"\"\n",
    "np.where(mat > 0.5, 1000, -1)"
   ]
  },
  {
   "cell_type": "code",
   "execution_count": 54,
   "id": "dd8fbc4c",
   "metadata": {},
   "outputs": [
    {
     "name": "stdout",
     "output_type": "stream",
     "text": [
      "False\n",
      "True\n"
     ]
    }
   ],
   "source": [
    "\"\"\"\n",
    "This way we can check if an element of the array is True since 0 is considered False and anything\n",
    "else apart from 0 is considered True\n",
    "\"\"\"\n",
    "arr_bools = np.array([0,0,0,0,0,0])\n",
    "print(arr_bools.any())\n",
    "arr_bools = np.array([0,0,0,0,1])\n",
    "print(arr_bools.any())"
   ]
  },
  {
   "cell_type": "code",
   "execution_count": 55,
   "id": "b96829eb",
   "metadata": {},
   "outputs": [
    {
     "name": "stdout",
     "output_type": "stream",
     "text": [
      "False\n",
      "True\n"
     ]
    }
   ],
   "source": [
    "# This method is like the previous one but checks if all of those elements are True\n",
    "arr_bools = np.array([1,1,False])\n",
    "print(arr_bools.all())\n",
    "arr_bools = np.array([1,1,2])\n",
    "print(arr_bools.all())"
   ]
  },
  {
   "cell_type": "markdown",
   "id": "5e45312c",
   "metadata": {},
   "source": [
    "Unifying data sets"
   ]
  },
  {
   "cell_type": "code",
   "execution_count": 56,
   "id": "fa82892d",
   "metadata": {},
   "outputs": [
    {
     "name": "stdout",
     "output_type": "stream",
     "text": [
      "[[17  8]\n",
      " [34 49]]\n",
      "\n",
      " [[12 10]\n",
      " [19  3]]\n"
     ]
    }
   ],
   "source": [
    "\"\"\"\n",
    "In the random class there's a method called \"randint()\" where you can pass the lowest and highest int\n",
    "generated and also the size of the array\n",
    "\"\"\"\n",
    "K = np.random.randint(low=2,high=50,size=(2,2))\n",
    "print(K)\n",
    "\n",
    "M = np.random.randint(low=2,high=50,size=(2,2))\n",
    "print(\"\\n\",M)"
   ]
  },
  {
   "cell_type": "code",
   "execution_count": 57,
   "id": "4f021e71",
   "metadata": {},
   "outputs": [
    {
     "data": {
      "text/plain": [
       "array([[17,  8],\n",
       "       [34, 49],\n",
       "       [12, 10],\n",
       "       [19,  3]])"
      ]
     },
     "execution_count": 57,
     "metadata": {},
     "output_type": "execute_result"
    }
   ],
   "source": [
    "# Now we merge them stacking vertically with the method \"v(ertically)stack()\".\n",
    "np.vstack((K,M))"
   ]
  },
  {
   "cell_type": "code",
   "execution_count": 58,
   "id": "0140d3e2",
   "metadata": {},
   "outputs": [
    {
     "data": {
      "text/plain": [
       "array([[17,  8, 12, 10],\n",
       "       [34, 49, 19,  3]])"
      ]
     },
     "execution_count": 58,
     "metadata": {},
     "output_type": "execute_result"
    }
   ],
   "source": [
    "# We can also merge them stacking horizontally with the method \"h(orizontally)stack()\"\n",
    "np.hstack((K,M))"
   ]
  },
  {
   "cell_type": "code",
   "execution_count": 59,
   "id": "65faaca4",
   "metadata": {},
   "outputs": [
    {
     "name": "stdout",
     "output_type": "stream",
     "text": [
      "[[17  8]\n",
      " [34 49]\n",
      " [12 10]\n",
      " [19  3]]\n",
      "\n",
      "[[17  8 12 10]\n",
      " [34 49 19  3]]\n"
     ]
    }
   ],
   "source": [
    "# We can also merge the arrays by concatenation\n",
    "print(np.concatenate([K,M], axis = 0))\n",
    "print()\n",
    "print(np.concatenate([K,M], axis = 1))"
   ]
  },
  {
   "cell_type": "markdown",
   "id": "44172063",
   "metadata": {},
   "source": [
    "# Broadcasting\n",
    "https://docs.scipy.org/doc/numpy-1.10.1/user/basics.broadcasting.html"
   ]
  },
  {
   "cell_type": "code",
   "execution_count": 60,
   "id": "9696cbcb",
   "metadata": {},
   "outputs": [
    {
     "name": "stdout",
     "output_type": "stream",
     "text": [
      "[[0. 0. 0. 0.]\n",
      " [0. 0. 0. 0.]\n",
      " [0. 0. 0. 0.]\n",
      " [0. 0. 0. 0.]]\n"
     ]
    }
   ],
   "source": [
    "base = np.zeros((4,4))\n",
    "print(base)"
   ]
  },
  {
   "cell_type": "code",
   "execution_count": 61,
   "id": "219f39f3",
   "metadata": {},
   "outputs": [
    {
     "name": "stdout",
     "output_type": "stream",
     "text": [
      "[1 0 2 7]\n",
      "(4,)\n"
     ]
    }
   ],
   "source": [
    "# Let's create an one-dimensional array\n",
    "row = np.array([1, 0, 2, 7])\n",
    "print(row)\n",
    "print(row.shape)"
   ]
  },
  {
   "cell_type": "code",
   "execution_count": 62,
   "id": "dcd6dbf6",
   "metadata": {},
   "outputs": [
    {
     "name": "stdout",
     "output_type": "stream",
     "text": [
      "[[1. 0. 2. 7.]\n",
      " [1. 0. 2. 7.]\n",
      " [1. 0. 2. 7.]\n",
      " [1. 0. 2. 7.]]\n"
     ]
    }
   ],
   "source": [
    "# Broadcasting concept involves that arrays with the same row lenght can be merged like this\n",
    "y = base + row\n",
    "print(y)"
   ]
  },
  {
   "cell_type": "code",
   "execution_count": 63,
   "id": "f79e0443",
   "metadata": {},
   "outputs": [
    {
     "name": "stdout",
     "output_type": "stream",
     "text": [
      "[[0 1 2 3]]\n"
     ]
    }
   ],
   "source": [
    "# Now we'll repeat the same thing but now let's sum a column to base\n",
    "col = np.array([[0,1,2,3]])\n",
    "print(col)"
   ]
  },
  {
   "cell_type": "code",
   "execution_count": 64,
   "id": "cda08c35",
   "metadata": {},
   "outputs": [
    {
     "name": "stdout",
     "output_type": "stream",
     "text": [
      "[[0]\n",
      " [1]\n",
      " [2]\n",
      " [3]]\n"
     ]
    }
   ],
   "source": [
    "# We will transpose the array to make it vertically aligned\n",
    "col = col.T\n",
    "print(col)"
   ]
  },
  {
   "cell_type": "code",
   "execution_count": 65,
   "id": "e846000c",
   "metadata": {},
   "outputs": [
    {
     "name": "stdout",
     "output_type": "stream",
     "text": [
      "[[0. 0. 0. 0.]\n",
      " [1. 1. 1. 1.]\n",
      " [2. 2. 2. 2.]\n",
      " [3. 3. 3. 3.]]\n"
     ]
    }
   ],
   "source": [
    "# And now we add to base\n",
    "y = base + col\n",
    "print(y)"
   ]
  },
  {
   "cell_type": "code",
   "execution_count": 66,
   "id": "2653637b",
   "metadata": {},
   "outputs": [
    {
     "name": "stdout",
     "output_type": "stream",
     "text": [
      "[[0]\n",
      " [1]\n",
      " [2]]\n"
     ]
    }
   ],
   "source": [
    "col = np.array([[0,1,2]])\n",
    "col = col.T\n",
    "print(col)"
   ]
  },
  {
   "cell_type": "code",
   "execution_count": 67,
   "id": "78ff9f2e",
   "metadata": {},
   "outputs": [
    {
     "ename": "ValueError",
     "evalue": "operands could not be broadcast together with shapes (4,4) (3,1) ",
     "output_type": "error",
     "traceback": [
      "\u001b[1;31m---------------------------------------------------------------------------\u001b[0m",
      "\u001b[1;31mValueError\u001b[0m                                Traceback (most recent call last)",
      "Cell \u001b[1;32mIn[67], line 2\u001b[0m\n\u001b[0;32m      1\u001b[0m \u001b[38;5;66;03m# What happens if we want to broadcast an array with different lenghts?\u001b[39;00m\n\u001b[1;32m----> 2\u001b[0m y \u001b[38;5;241m=\u001b[39m base \u001b[38;5;241m+\u001b[39m col\n\u001b[0;32m      3\u001b[0m \u001b[38;5;28mprint\u001b[39m(y)\n",
      "\u001b[1;31mValueError\u001b[0m: operands could not be broadcast together with shapes (4,4) (3,1) "
     ]
    }
   ],
   "source": [
    "# What happens if we want to broadcast an array with different lenghts?\n",
    "y = base + col\n",
    "print(y)\n",
    "# We cannot broadcast with different lengths"
   ]
  },
  {
   "cell_type": "code",
   "execution_count": null,
   "id": "97b4a708",
   "metadata": {},
   "outputs": [],
   "source": [
    "# But somehow we can broadcast with a single element array\n",
    "arr_x = np.array([1])\n",
    "print(arr_x)\n",
    "print(\"_________\")\n",
    "print(base + arr_x)"
   ]
  },
  {
   "cell_type": "markdown",
   "id": "b0ab1847",
   "metadata": {},
   "source": [
    "# Speed test!\n",
    "\n",
    "There are some advantages using Numpy arrays instead of normal Python's lists, and in this\n",
    "section we'll see those."
   ]
  },
  {
   "cell_type": "code",
   "execution_count": 69,
   "id": "bdc91dd1",
   "metadata": {},
   "outputs": [
    {
     "name": "stdout",
     "output_type": "stream",
     "text": [
      "Data type: <class 'numpy.ndarray'>\n",
      "Shape: (1000000,)\n"
     ]
    }
   ],
   "source": [
    "from numpy import arange\n",
    "from timeit import Timer\n",
    "\n",
    "size = 1000000\n",
    "timeits = 1000\n",
    "\n",
    "nd_array = arange(size)\n",
    "print(\"Data type:\",type(nd_array))\n",
    "print(\"Shape:\",nd_array.shape)"
   ]
  },
  {
   "cell_type": "code",
   "execution_count": 70,
   "id": "f92f185c",
   "metadata": {},
   "outputs": [
    {
     "name": "stdout",
     "output_type": "stream",
     "text": [
      "Time taken by numpy ndarray: 0.253074 seconds\n"
     ]
    }
   ],
   "source": [
    "# With the Timer function we can measure the time to do an operation or function\n",
    "\n",
    "timer_numpy = Timer(\"nd_array.sum()\", \"from __main__ import nd_array\")\n",
    "print(\"Time taken by numpy ndarray: %f seconds\" % (timer_numpy.timeit(timeits)))"
   ]
  },
  {
   "cell_type": "code",
   "execution_count": 71,
   "id": "199e82f6",
   "metadata": {},
   "outputs": [
    {
     "name": "stdout",
     "output_type": "stream",
     "text": [
      "<class 'list'>\n",
      "Shape: 1000000\n"
     ]
    }
   ],
   "source": [
    "a_list = list(range(size))\n",
    "print (type(a_list))\n",
    "print(\"Shape:\",len(a_list))"
   ]
  },
  {
   "cell_type": "code",
   "execution_count": 72,
   "id": "0e86e8bf",
   "metadata": {},
   "outputs": [
    {
     "ename": "KeyboardInterrupt",
     "evalue": "",
     "output_type": "error",
     "traceback": [
      "\u001b[1;31m---------------------------------------------------------------------------\u001b[0m",
      "\u001b[1;31mKeyboardInterrupt\u001b[0m                         Traceback (most recent call last)",
      "Cell \u001b[1;32mIn[72], line 2\u001b[0m\n\u001b[0;32m      1\u001b[0m timer_list \u001b[38;5;241m=\u001b[39m Timer(\u001b[38;5;124m\"\u001b[39m\u001b[38;5;124msum(a_list)\u001b[39m\u001b[38;5;124m\"\u001b[39m, \u001b[38;5;124m\"\u001b[39m\u001b[38;5;124mfrom __main__ import a_list\u001b[39m\u001b[38;5;124m\"\u001b[39m)\n\u001b[1;32m----> 2\u001b[0m \u001b[38;5;28mprint\u001b[39m(\u001b[38;5;124m\"\u001b[39m\u001b[38;5;124mTime taken by list:  \u001b[39m\u001b[38;5;132;01m%f\u001b[39;00m\u001b[38;5;124m seconds\u001b[39m\u001b[38;5;124m\"\u001b[39m \u001b[38;5;241m%\u001b[39m (timer_list\u001b[38;5;241m.\u001b[39mtimeit(timeits)))\n",
      "File \u001b[1;32mC:\\Anaconda\\Lib\\timeit.py:178\u001b[0m, in \u001b[0;36mTimer.timeit\u001b[1;34m(self, number)\u001b[0m\n\u001b[0;32m    176\u001b[0m gc\u001b[38;5;241m.\u001b[39mdisable()\n\u001b[0;32m    177\u001b[0m \u001b[38;5;28;01mtry\u001b[39;00m:\n\u001b[1;32m--> 178\u001b[0m     timing \u001b[38;5;241m=\u001b[39m \u001b[38;5;28mself\u001b[39m\u001b[38;5;241m.\u001b[39minner(it, \u001b[38;5;28mself\u001b[39m\u001b[38;5;241m.\u001b[39mtimer)\n\u001b[0;32m    179\u001b[0m \u001b[38;5;28;01mfinally\u001b[39;00m:\n\u001b[0;32m    180\u001b[0m     \u001b[38;5;28;01mif\u001b[39;00m gcold:\n",
      "File \u001b[1;32m<timeit-src>:7\u001b[0m, in \u001b[0;36minner\u001b[1;34m(_it, _timer)\u001b[0m\n",
      "\u001b[1;31mKeyboardInterrupt\u001b[0m: "
     ]
    }
   ],
   "source": [
    "timer_list = Timer(\"sum(a_list)\", \"from __main__ import a_list\")\n",
    "print(\"Time taken by list:  %f seconds\" % (timer_list.timeit(timeits)))"
   ]
  },
  {
   "cell_type": "markdown",
   "id": "4e63b76b",
   "metadata": {},
   "source": [
    "# Save to disk an array / recover an array from disk"
   ]
  },
  {
   "cell_type": "code",
   "execution_count": 73,
   "id": "bd283749",
   "metadata": {},
   "outputs": [],
   "source": [
    "x = np.array([23.23, 24.24])\n",
    "# With this method (\"save()\") you pass the name of the file as the 1st parameter and then the array itself\n",
    "np.save(\"important_array\", x)"
   ]
  },
  {
   "cell_type": "code",
   "execution_count": null,
   "id": "78675d83",
   "metadata": {},
   "outputs": [],
   "source": [
    "# Then to recover it you will use the method \"load()\", with the extension of the file (save does it automatically)\n",
    "recovered = np.load(\"important_array.npy\")\n",
    "print(\"The recovered array\")"
   ]
  }
 ],
 "metadata": {
  "kernelspec": {
   "display_name": "Python 3 (ipykernel)",
   "language": "python",
   "name": "python3"
  },
  "language_info": {
   "codemirror_mode": {
    "name": "ipython",
    "version": 3
   },
   "file_extension": ".py",
   "mimetype": "text/x-python",
   "name": "python",
   "nbconvert_exporter": "python",
   "pygments_lexer": "ipython3",
   "version": "3.11.4"
  }
 },
 "nbformat": 4,
 "nbformat_minor": 5
}
