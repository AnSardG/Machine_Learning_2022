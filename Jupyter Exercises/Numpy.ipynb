{
 "cells": [
  {
   "cell_type": "markdown",
   "id": "f7b8a718",
   "metadata": {},
   "source": [
    "# Numpy\n",
    "\n",
    "Numpy is one of the most important libraries of Python, we're going\n",
    "to see why is this and also examples of how to use it and what is it used for.\n",
    "\n",
    "It let's you realize maths with numeric arrays at high speed, instead \n",
    "the normal lists of Python; also it has a really wide set of tools to make\n",
    "operations eficiently and with less code.\n",
    "\n",
    "Also, most of Python's libraries are based on Numpy, for example: Pandas."
   ]
  },
  {
   "cell_type": "code",
   "execution_count": 4,
   "id": "be3f921e",
   "metadata": {},
   "outputs": [
    {
     "name": "stdout",
     "output_type": "stream",
     "text": [
      "<class 'numpy.ndarray'>\n"
     ]
    }
   ],
   "source": [
    "# You use the alias \"np\" to name the library\n",
    "import numpy as np\n",
    "\"\"\"\n",
    "We create a \"np\" array of range 1 (one dimension) with the method \"array()\",\n",
    "the numbers between square brackets are rows from the array and each number separated\n",
    "with commas are the columns.\n",
    "\"\"\"\n",
    "an_array = np.array([7, 77, 777])\n",
    "# This variable is a type \"numpy.ndarray\", n (number) of \"d\" (dimensions) of this array.\n",
    "print(type(an_array))"
   ]
  },
  {
   "cell_type": "code",
   "execution_count": 15,
   "id": "ebd82ace",
   "metadata": {},
   "outputs": [
    {
     "name": "stdout",
     "output_type": "stream",
     "text": [
      "<class 'tuple'>\n",
      "(4,)\n",
      "Shape of the array: (2, 3)\n",
      "[[1 2 3]\n",
      " [4 5 6]]\n"
     ]
    }
   ],
   "source": [
    "# We search what's the data type of the array's shape object and then we print the shape of the array.\n",
    "print (type(an_array.shape))\n",
    "# Since it's only 1 dimension you will only see a number meaning how many columns it has.\n",
    "print(an_array.shape)\n",
    "# Now this is how you create a two dimensions array, and each dimension should have the same lenght.\n",
    "a_two_dimension_array = np.array([[1, 2, 3], [4, 5, 6]])\n",
    "print(\"Shape of the array:\", a_two_dimension_array.shape)\n",
    "print(a_two_dimension_array)"
   ]
  },
  {
   "cell_type": "code",
   "execution_count": 17,
   "id": "84eef9b1",
   "metadata": {},
   "outputs": [
    {
     "name": "stdout",
     "output_type": "stream",
     "text": [
      "7\n",
      "77\n",
      "777\n",
      "200\n"
     ]
    }
   ],
   "source": [
    "# How to access those variables\n",
    "print(an_array[0])\n",
    "print(an_array[1])\n",
    "print(an_array[2])\n",
    "an_array[2] = 200\n",
    "print(an_array[2])"
   ]
  },
  {
   "cell_type": "markdown",
   "id": "e21a41b0",
   "metadata": {},
   "source": [
    "# How to create a multidimensional array"
   ]
  },
  {
   "cell_type": "code",
   "execution_count": 18,
   "id": "5bc6a889",
   "metadata": {},
   "outputs": [
    {
     "name": "stdout",
     "output_type": "stream",
     "text": [
      "Shape of this array is:  (3, 3)\n"
     ]
    }
   ],
   "source": [
    "multidimensional_array = np.array([[11, 12, 13], [22, 23, 24], [35, 36, 37]])\n",
    "print(\"Shape of this array is:\",multidimensional_array.shape)"
   ]
  },
  {
   "cell_type": "code",
   "execution_count": 20,
   "id": "1aea862c",
   "metadata": {},
   "outputs": [
    {
     "name": "stdout",
     "output_type": "stream",
     "text": [
      "This is how I access a value of this two-dimension array: 35\n",
      "This is how I print the full array\n",
      "[[11 12 13]\n",
      " [22 23 24]\n",
      " [35 36 37]]\n"
     ]
    }
   ],
   "source": [
    "print(\"This is how I access a value of this two-dimension array:\",multidimensional_array[2, 0])\n",
    "print(\"This is how I print the full array\")\n",
    "print(multidimensional_array)"
   ]
  },
  {
   "cell_type": "markdown",
   "id": "1cc1e241",
   "metadata": {},
   "source": [
    "$ I^{3 \\times 3} =\n",
    "\\left( \\begin{array}{cccc}\n",
    " 11 & 12 & 13 \\\\\n",
    " 22 & 23 & 24 \\\\\n",
    " 35 & 36 & 37 \\\\\n",
    "\\end{array} \\right) $"
   ]
  },
  {
   "cell_type": "markdown",
   "id": "185e35e4",
   "metadata": {},
   "source": [
    "# Multiple ways of creating nd arrays"
   ]
  },
  {
   "cell_type": "code",
   "execution_count": 21,
   "id": "fe94c71a",
   "metadata": {},
   "outputs": [
    {
     "name": "stdout",
     "output_type": "stream",
     "text": [
      "[[0. 0. 0. ... 0. 0. 0.]\n",
      " [0. 0. 0. ... 0. 0. 0.]\n",
      " [0. 0. 0. ... 0. 0. 0.]\n",
      " ...\n",
      " [0. 0. 0. ... 0. 0. 0.]\n",
      " [0. 0. 0. ... 0. 0. 0.]\n",
      " [0. 0. 0. ... 0. 0. 0.]]\n"
     ]
    }
   ],
   "source": [
    "#How to create a full-zero array, with the method \"zeros()\"\n",
    "i1 = np.zeros((1080, 1920))\n",
    "print(i1)"
   ]
  },
  {
   "cell_type": "code",
   "execution_count": null,
   "id": "039a5fe2",
   "metadata": {},
   "outputs": [],
   "source": [
    "\"\"\"\n",
    "This method will fill all the numbers from an array with the method \"full()\"; first\n",
    "argument means the dimensions of the array and the second the number you want to fill in in each position\n",
    "\"\"\"\n",
    "i2 = np.full((2,2), 9.1)\n",
    "print(i2)"
   ]
  }
 ],
 "metadata": {
  "kernelspec": {
   "display_name": "Python 3 (ipykernel)",
   "language": "python",
   "name": "python3"
  },
  "language_info": {
   "codemirror_mode": {
    "name": "ipython",
    "version": 3
   },
   "file_extension": ".py",
   "mimetype": "text/x-python",
   "name": "python",
   "nbconvert_exporter": "python",
   "pygments_lexer": "ipython3",
   "version": "3.11.4"
  }
 },
 "nbformat": 4,
 "nbformat_minor": 5
}
